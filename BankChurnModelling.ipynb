{
  "nbformat": 4,
  "nbformat_minor": 0,
  "metadata": {
    "colab": {
      "provenance": [],
      "include_colab_link": true
    },
    "kernelspec": {
      "name": "python3",
      "display_name": "Python 3"
    },
    "language_info": {
      "name": "python"
    }
  },
  "cells": [
    {
      "cell_type": "markdown",
      "metadata": {
        "id": "view-in-github",
        "colab_type": "text"
      },
      "source": [
        "<a href=\"https://colab.research.google.com/github/pavithra-g1927/Bank-Customer-Churn-Model/blob/main/BankChurnModelling.ipynb\" target=\"_parent\"><img src=\"https://colab.research.google.com/assets/colab-badge.svg\" alt=\"Open In Colab\"/></a>"
      ]
    },
    {
      "cell_type": "markdown",
      "source": [
        "# **BANK CUSTOMER CHURN MODEL**\n",
        "- A real world problem on how to identify the bank customers who are going to leave the bank or left the bank.\n",
        "\n",
        "Learning Objectives:\n",
        "1. Data Encoding\n",
        "2. Feature Encoding\n",
        "3. Handling Inbalance Data\n",
        "      * Random Under Sampling\n",
        "      * Random Over Sampling\n",
        "4. Support Vector Machine Classifier\n",
        "5. Grid Search for Hyperparameter Tunning\n",
        "\n",
        "\n",
        "\n",
        "\n"
      ],
      "metadata": {
        "id": "HIzXmBUVSonm"
      }
    },
    {
      "cell_type": "markdown",
      "source": [
        "Step1: **Import Libraries**"
      ],
      "metadata": {
        "id": "QNCSavtuVAj7"
      }
    },
    {
      "cell_type": "code",
      "source": [
        "import pandas as pd\n",
        "import numpy as np\n",
        "import matplotlib.pyplot as plt\n",
        "import seaborn as sns"
      ],
      "metadata": {
        "id": "YOfHV3wSVGz8"
      },
      "execution_count": null,
      "outputs": []
    },
    {
      "cell_type": "markdown",
      "source": [
        "Step2: **Import Data**"
      ],
      "metadata": {
        "id": "gCYLnuIyVeEt"
      }
    },
    {
      "cell_type": "code",
      "source": [
        "df = pd.read_csv('https://github.com/YBI-Foundation/Dataset/raw/main/Bank%20Churn%20Modelling.csv')"
      ],
      "metadata": {
        "id": "wEKuujPxVjDp"
      },
      "execution_count": null,
      "outputs": []
    },
    {
      "cell_type": "markdown",
      "source": [
        "Step3: **Analyze Data**"
      ],
      "metadata": {
        "id": "2i0su1BJWC0Z"
      }
    },
    {
      "cell_type": "code",
      "source": [
        "df.head()"
      ],
      "metadata": {
        "colab": {
          "base_uri": "https://localhost:8080/",
          "height": 223
        },
        "id": "VDTGQ-PQWIFt",
        "outputId": "319fdede-fea5-49db-a290-0b5f94bff093"
      },
      "execution_count": null,
      "outputs": [
        {
          "output_type": "execute_result",
          "data": {
            "text/plain": [
              "   CustomerId   Surname  CreditScore Geography  Gender  Age  Tenure  \\\n",
              "0    15634602  Hargrave          619    France  Female   42       2   \n",
              "1    15647311      Hill          608     Spain  Female   41       1   \n",
              "2    15619304      Onio          502    France  Female   42       8   \n",
              "3    15701354      Boni          699    France  Female   39       1   \n",
              "4    15737888  Mitchell          850     Spain  Female   43       2   \n",
              "\n",
              "     Balance  Num Of Products  Has Credit Card  Is Active Member  \\\n",
              "0       0.00                1                1                 1   \n",
              "1   83807.86                1                0                 1   \n",
              "2  159660.80                3                1                 0   \n",
              "3       0.00                2                0                 0   \n",
              "4  125510.82                1                1                 1   \n",
              "\n",
              "   Estimated Salary  Churn  \n",
              "0         101348.88      1  \n",
              "1         112542.58      0  \n",
              "2         113931.57      1  \n",
              "3          93826.63      0  \n",
              "4          79084.10      0  "
            ],
            "text/html": [
              "\n",
              "  <div id=\"df-3fac09e9-09a7-4129-80ff-7558cc901773\" class=\"colab-df-container\">\n",
              "    <div>\n",
              "<style scoped>\n",
              "    .dataframe tbody tr th:only-of-type {\n",
              "        vertical-align: middle;\n",
              "    }\n",
              "\n",
              "    .dataframe tbody tr th {\n",
              "        vertical-align: top;\n",
              "    }\n",
              "\n",
              "    .dataframe thead th {\n",
              "        text-align: right;\n",
              "    }\n",
              "</style>\n",
              "<table border=\"1\" class=\"dataframe\">\n",
              "  <thead>\n",
              "    <tr style=\"text-align: right;\">\n",
              "      <th></th>\n",
              "      <th>CustomerId</th>\n",
              "      <th>Surname</th>\n",
              "      <th>CreditScore</th>\n",
              "      <th>Geography</th>\n",
              "      <th>Gender</th>\n",
              "      <th>Age</th>\n",
              "      <th>Tenure</th>\n",
              "      <th>Balance</th>\n",
              "      <th>Num Of Products</th>\n",
              "      <th>Has Credit Card</th>\n",
              "      <th>Is Active Member</th>\n",
              "      <th>Estimated Salary</th>\n",
              "      <th>Churn</th>\n",
              "    </tr>\n",
              "  </thead>\n",
              "  <tbody>\n",
              "    <tr>\n",
              "      <th>0</th>\n",
              "      <td>15634602</td>\n",
              "      <td>Hargrave</td>\n",
              "      <td>619</td>\n",
              "      <td>France</td>\n",
              "      <td>Female</td>\n",
              "      <td>42</td>\n",
              "      <td>2</td>\n",
              "      <td>0.00</td>\n",
              "      <td>1</td>\n",
              "      <td>1</td>\n",
              "      <td>1</td>\n",
              "      <td>101348.88</td>\n",
              "      <td>1</td>\n",
              "    </tr>\n",
              "    <tr>\n",
              "      <th>1</th>\n",
              "      <td>15647311</td>\n",
              "      <td>Hill</td>\n",
              "      <td>608</td>\n",
              "      <td>Spain</td>\n",
              "      <td>Female</td>\n",
              "      <td>41</td>\n",
              "      <td>1</td>\n",
              "      <td>83807.86</td>\n",
              "      <td>1</td>\n",
              "      <td>0</td>\n",
              "      <td>1</td>\n",
              "      <td>112542.58</td>\n",
              "      <td>0</td>\n",
              "    </tr>\n",
              "    <tr>\n",
              "      <th>2</th>\n",
              "      <td>15619304</td>\n",
              "      <td>Onio</td>\n",
              "      <td>502</td>\n",
              "      <td>France</td>\n",
              "      <td>Female</td>\n",
              "      <td>42</td>\n",
              "      <td>8</td>\n",
              "      <td>159660.80</td>\n",
              "      <td>3</td>\n",
              "      <td>1</td>\n",
              "      <td>0</td>\n",
              "      <td>113931.57</td>\n",
              "      <td>1</td>\n",
              "    </tr>\n",
              "    <tr>\n",
              "      <th>3</th>\n",
              "      <td>15701354</td>\n",
              "      <td>Boni</td>\n",
              "      <td>699</td>\n",
              "      <td>France</td>\n",
              "      <td>Female</td>\n",
              "      <td>39</td>\n",
              "      <td>1</td>\n",
              "      <td>0.00</td>\n",
              "      <td>2</td>\n",
              "      <td>0</td>\n",
              "      <td>0</td>\n",
              "      <td>93826.63</td>\n",
              "      <td>0</td>\n",
              "    </tr>\n",
              "    <tr>\n",
              "      <th>4</th>\n",
              "      <td>15737888</td>\n",
              "      <td>Mitchell</td>\n",
              "      <td>850</td>\n",
              "      <td>Spain</td>\n",
              "      <td>Female</td>\n",
              "      <td>43</td>\n",
              "      <td>2</td>\n",
              "      <td>125510.82</td>\n",
              "      <td>1</td>\n",
              "      <td>1</td>\n",
              "      <td>1</td>\n",
              "      <td>79084.10</td>\n",
              "      <td>0</td>\n",
              "    </tr>\n",
              "  </tbody>\n",
              "</table>\n",
              "</div>\n",
              "    <div class=\"colab-df-buttons\">\n",
              "\n",
              "  <div class=\"colab-df-container\">\n",
              "    <button class=\"colab-df-convert\" onclick=\"convertToInteractive('df-3fac09e9-09a7-4129-80ff-7558cc901773')\"\n",
              "            title=\"Convert this dataframe to an interactive table.\"\n",
              "            style=\"display:none;\">\n",
              "\n",
              "  <svg xmlns=\"http://www.w3.org/2000/svg\" height=\"24px\" viewBox=\"0 -960 960 960\">\n",
              "    <path d=\"M120-120v-720h720v720H120Zm60-500h600v-160H180v160Zm220 220h160v-160H400v160Zm0 220h160v-160H400v160ZM180-400h160v-160H180v160Zm440 0h160v-160H620v160ZM180-180h160v-160H180v160Zm440 0h160v-160H620v160Z\"/>\n",
              "  </svg>\n",
              "    </button>\n",
              "\n",
              "  <style>\n",
              "    .colab-df-container {\n",
              "      display:flex;\n",
              "      gap: 12px;\n",
              "    }\n",
              "\n",
              "    .colab-df-convert {\n",
              "      background-color: #E8F0FE;\n",
              "      border: none;\n",
              "      border-radius: 50%;\n",
              "      cursor: pointer;\n",
              "      display: none;\n",
              "      fill: #1967D2;\n",
              "      height: 32px;\n",
              "      padding: 0 0 0 0;\n",
              "      width: 32px;\n",
              "    }\n",
              "\n",
              "    .colab-df-convert:hover {\n",
              "      background-color: #E2EBFA;\n",
              "      box-shadow: 0px 1px 2px rgba(60, 64, 67, 0.3), 0px 1px 3px 1px rgba(60, 64, 67, 0.15);\n",
              "      fill: #174EA6;\n",
              "    }\n",
              "\n",
              "    .colab-df-buttons div {\n",
              "      margin-bottom: 4px;\n",
              "    }\n",
              "\n",
              "    [theme=dark] .colab-df-convert {\n",
              "      background-color: #3B4455;\n",
              "      fill: #D2E3FC;\n",
              "    }\n",
              "\n",
              "    [theme=dark] .colab-df-convert:hover {\n",
              "      background-color: #434B5C;\n",
              "      box-shadow: 0px 1px 3px 1px rgba(0, 0, 0, 0.15);\n",
              "      filter: drop-shadow(0px 1px 2px rgba(0, 0, 0, 0.3));\n",
              "      fill: #FFFFFF;\n",
              "    }\n",
              "  </style>\n",
              "\n",
              "    <script>\n",
              "      const buttonEl =\n",
              "        document.querySelector('#df-3fac09e9-09a7-4129-80ff-7558cc901773 button.colab-df-convert');\n",
              "      buttonEl.style.display =\n",
              "        google.colab.kernel.accessAllowed ? 'block' : 'none';\n",
              "\n",
              "      async function convertToInteractive(key) {\n",
              "        const element = document.querySelector('#df-3fac09e9-09a7-4129-80ff-7558cc901773');\n",
              "        const dataTable =\n",
              "          await google.colab.kernel.invokeFunction('convertToInteractive',\n",
              "                                                    [key], {});\n",
              "        if (!dataTable) return;\n",
              "\n",
              "        const docLinkHtml = 'Like what you see? Visit the ' +\n",
              "          '<a target=\"_blank\" href=https://colab.research.google.com/notebooks/data_table.ipynb>data table notebook</a>'\n",
              "          + ' to learn more about interactive tables.';\n",
              "        element.innerHTML = '';\n",
              "        dataTable['output_type'] = 'display_data';\n",
              "        await google.colab.output.renderOutput(dataTable, element);\n",
              "        const docLink = document.createElement('div');\n",
              "        docLink.innerHTML = docLinkHtml;\n",
              "        element.appendChild(docLink);\n",
              "      }\n",
              "    </script>\n",
              "  </div>\n",
              "\n",
              "\n",
              "    <div id=\"df-6a42bcc3-a76e-453d-b6c8-519f0052586a\">\n",
              "      <button class=\"colab-df-quickchart\" onclick=\"quickchart('df-6a42bcc3-a76e-453d-b6c8-519f0052586a')\"\n",
              "                title=\"Suggest charts\"\n",
              "                style=\"display:none;\">\n",
              "\n",
              "<svg xmlns=\"http://www.w3.org/2000/svg\" height=\"24px\"viewBox=\"0 0 24 24\"\n",
              "     width=\"24px\">\n",
              "    <g>\n",
              "        <path d=\"M19 3H5c-1.1 0-2 .9-2 2v14c0 1.1.9 2 2 2h14c1.1 0 2-.9 2-2V5c0-1.1-.9-2-2-2zM9 17H7v-7h2v7zm4 0h-2V7h2v10zm4 0h-2v-4h2v4z\"/>\n",
              "    </g>\n",
              "</svg>\n",
              "      </button>\n",
              "\n",
              "<style>\n",
              "  .colab-df-quickchart {\n",
              "      --bg-color: #E8F0FE;\n",
              "      --fill-color: #1967D2;\n",
              "      --hover-bg-color: #E2EBFA;\n",
              "      --hover-fill-color: #174EA6;\n",
              "      --disabled-fill-color: #AAA;\n",
              "      --disabled-bg-color: #DDD;\n",
              "  }\n",
              "\n",
              "  [theme=dark] .colab-df-quickchart {\n",
              "      --bg-color: #3B4455;\n",
              "      --fill-color: #D2E3FC;\n",
              "      --hover-bg-color: #434B5C;\n",
              "      --hover-fill-color: #FFFFFF;\n",
              "      --disabled-bg-color: #3B4455;\n",
              "      --disabled-fill-color: #666;\n",
              "  }\n",
              "\n",
              "  .colab-df-quickchart {\n",
              "    background-color: var(--bg-color);\n",
              "    border: none;\n",
              "    border-radius: 50%;\n",
              "    cursor: pointer;\n",
              "    display: none;\n",
              "    fill: var(--fill-color);\n",
              "    height: 32px;\n",
              "    padding: 0;\n",
              "    width: 32px;\n",
              "  }\n",
              "\n",
              "  .colab-df-quickchart:hover {\n",
              "    background-color: var(--hover-bg-color);\n",
              "    box-shadow: 0 1px 2px rgba(60, 64, 67, 0.3), 0 1px 3px 1px rgba(60, 64, 67, 0.15);\n",
              "    fill: var(--button-hover-fill-color);\n",
              "  }\n",
              "\n",
              "  .colab-df-quickchart-complete:disabled,\n",
              "  .colab-df-quickchart-complete:disabled:hover {\n",
              "    background-color: var(--disabled-bg-color);\n",
              "    fill: var(--disabled-fill-color);\n",
              "    box-shadow: none;\n",
              "  }\n",
              "\n",
              "  .colab-df-spinner {\n",
              "    border: 2px solid var(--fill-color);\n",
              "    border-color: transparent;\n",
              "    border-bottom-color: var(--fill-color);\n",
              "    animation:\n",
              "      spin 1s steps(1) infinite;\n",
              "  }\n",
              "\n",
              "  @keyframes spin {\n",
              "    0% {\n",
              "      border-color: transparent;\n",
              "      border-bottom-color: var(--fill-color);\n",
              "      border-left-color: var(--fill-color);\n",
              "    }\n",
              "    20% {\n",
              "      border-color: transparent;\n",
              "      border-left-color: var(--fill-color);\n",
              "      border-top-color: var(--fill-color);\n",
              "    }\n",
              "    30% {\n",
              "      border-color: transparent;\n",
              "      border-left-color: var(--fill-color);\n",
              "      border-top-color: var(--fill-color);\n",
              "      border-right-color: var(--fill-color);\n",
              "    }\n",
              "    40% {\n",
              "      border-color: transparent;\n",
              "      border-right-color: var(--fill-color);\n",
              "      border-top-color: var(--fill-color);\n",
              "    }\n",
              "    60% {\n",
              "      border-color: transparent;\n",
              "      border-right-color: var(--fill-color);\n",
              "    }\n",
              "    80% {\n",
              "      border-color: transparent;\n",
              "      border-right-color: var(--fill-color);\n",
              "      border-bottom-color: var(--fill-color);\n",
              "    }\n",
              "    90% {\n",
              "      border-color: transparent;\n",
              "      border-bottom-color: var(--fill-color);\n",
              "    }\n",
              "  }\n",
              "</style>\n",
              "\n",
              "      <script>\n",
              "        async function quickchart(key) {\n",
              "          const quickchartButtonEl =\n",
              "            document.querySelector('#' + key + ' button');\n",
              "          quickchartButtonEl.disabled = true;  // To prevent multiple clicks.\n",
              "          quickchartButtonEl.classList.add('colab-df-spinner');\n",
              "          try {\n",
              "            const charts = await google.colab.kernel.invokeFunction(\n",
              "                'suggestCharts', [key], {});\n",
              "          } catch (error) {\n",
              "            console.error('Error during call to suggestCharts:', error);\n",
              "          }\n",
              "          quickchartButtonEl.classList.remove('colab-df-spinner');\n",
              "          quickchartButtonEl.classList.add('colab-df-quickchart-complete');\n",
              "        }\n",
              "        (() => {\n",
              "          let quickchartButtonEl =\n",
              "            document.querySelector('#df-6a42bcc3-a76e-453d-b6c8-519f0052586a button');\n",
              "          quickchartButtonEl.style.display =\n",
              "            google.colab.kernel.accessAllowed ? 'block' : 'none';\n",
              "        })();\n",
              "      </script>\n",
              "    </div>\n",
              "\n",
              "    </div>\n",
              "  </div>\n"
            ],
            "application/vnd.google.colaboratory.intrinsic+json": {
              "type": "dataframe",
              "variable_name": "df",
              "summary": "{\n  \"name\": \"df\",\n  \"rows\": 10000,\n  \"fields\": [\n    {\n      \"column\": \"CustomerId\",\n      \"properties\": {\n        \"dtype\": \"number\",\n        \"std\": 71936,\n        \"min\": 15565701,\n        \"max\": 15815690,\n        \"num_unique_values\": 10000,\n        \"samples\": [\n          15687492,\n          15736963,\n          15721730\n        ],\n        \"semantic_type\": \"\",\n        \"description\": \"\"\n      }\n    },\n    {\n      \"column\": \"Surname\",\n      \"properties\": {\n        \"dtype\": \"category\",\n        \"num_unique_values\": 2932,\n        \"samples\": [\n          \"McGuirk\",\n          \"Torkelson\",\n          \"Rapuluchukwu\"\n        ],\n        \"semantic_type\": \"\",\n        \"description\": \"\"\n      }\n    },\n    {\n      \"column\": \"CreditScore\",\n      \"properties\": {\n        \"dtype\": \"number\",\n        \"std\": 96,\n        \"min\": 350,\n        \"max\": 850,\n        \"num_unique_values\": 460,\n        \"samples\": [\n          754,\n          533,\n          744\n        ],\n        \"semantic_type\": \"\",\n        \"description\": \"\"\n      }\n    },\n    {\n      \"column\": \"Geography\",\n      \"properties\": {\n        \"dtype\": \"category\",\n        \"num_unique_values\": 3,\n        \"samples\": [\n          \"France\",\n          \"Spain\",\n          \"Germany\"\n        ],\n        \"semantic_type\": \"\",\n        \"description\": \"\"\n      }\n    },\n    {\n      \"column\": \"Gender\",\n      \"properties\": {\n        \"dtype\": \"category\",\n        \"num_unique_values\": 2,\n        \"samples\": [\n          \"Male\",\n          \"Female\"\n        ],\n        \"semantic_type\": \"\",\n        \"description\": \"\"\n      }\n    },\n    {\n      \"column\": \"Age\",\n      \"properties\": {\n        \"dtype\": \"number\",\n        \"std\": 10,\n        \"min\": 18,\n        \"max\": 92,\n        \"num_unique_values\": 70,\n        \"samples\": [\n          61,\n          42\n        ],\n        \"semantic_type\": \"\",\n        \"description\": \"\"\n      }\n    },\n    {\n      \"column\": \"Tenure\",\n      \"properties\": {\n        \"dtype\": \"number\",\n        \"std\": 2,\n        \"min\": 0,\n        \"max\": 10,\n        \"num_unique_values\": 11,\n        \"samples\": [\n          6,\n          2\n        ],\n        \"semantic_type\": \"\",\n        \"description\": \"\"\n      }\n    },\n    {\n      \"column\": \"Balance\",\n      \"properties\": {\n        \"dtype\": \"number\",\n        \"std\": 62397.40520238623,\n        \"min\": 0.0,\n        \"max\": 250898.09,\n        \"num_unique_values\": 6382,\n        \"samples\": [\n          117707.18,\n          133050.97\n        ],\n        \"semantic_type\": \"\",\n        \"description\": \"\"\n      }\n    },\n    {\n      \"column\": \"Num Of Products\",\n      \"properties\": {\n        \"dtype\": \"number\",\n        \"std\": 0,\n        \"min\": 1,\n        \"max\": 4,\n        \"num_unique_values\": 4,\n        \"samples\": [\n          3,\n          4\n        ],\n        \"semantic_type\": \"\",\n        \"description\": \"\"\n      }\n    },\n    {\n      \"column\": \"Has Credit Card\",\n      \"properties\": {\n        \"dtype\": \"number\",\n        \"std\": 0,\n        \"min\": 0,\n        \"max\": 1,\n        \"num_unique_values\": 2,\n        \"samples\": [\n          0,\n          1\n        ],\n        \"semantic_type\": \"\",\n        \"description\": \"\"\n      }\n    },\n    {\n      \"column\": \"Is Active Member\",\n      \"properties\": {\n        \"dtype\": \"number\",\n        \"std\": 0,\n        \"min\": 0,\n        \"max\": 1,\n        \"num_unique_values\": 2,\n        \"samples\": [\n          0,\n          1\n        ],\n        \"semantic_type\": \"\",\n        \"description\": \"\"\n      }\n    },\n    {\n      \"column\": \"Estimated Salary\",\n      \"properties\": {\n        \"dtype\": \"number\",\n        \"std\": 57510.49281769822,\n        \"min\": 11.58,\n        \"max\": 199992.48,\n        \"num_unique_values\": 9999,\n        \"samples\": [\n          100809.99,\n          95273.73\n        ],\n        \"semantic_type\": \"\",\n        \"description\": \"\"\n      }\n    },\n    {\n      \"column\": \"Churn\",\n      \"properties\": {\n        \"dtype\": \"number\",\n        \"std\": 0,\n        \"min\": 0,\n        \"max\": 1,\n        \"num_unique_values\": 2,\n        \"samples\": [\n          0,\n          1\n        ],\n        \"semantic_type\": \"\",\n        \"description\": \"\"\n      }\n    }\n  ]\n}"
            }
          },
          "metadata": {},
          "execution_count": 5
        }
      ]
    },
    {
      "cell_type": "code",
      "source": [
        "df.info()"
      ],
      "metadata": {
        "colab": {
          "base_uri": "https://localhost:8080/"
        },
        "id": "fM3GRX3BWIHp",
        "outputId": "01b5aac4-5af4-42c7-fe2a-440fd28ce0f0"
      },
      "execution_count": null,
      "outputs": [
        {
          "output_type": "stream",
          "name": "stdout",
          "text": [
            "<class 'pandas.core.frame.DataFrame'>\n",
            "RangeIndex: 10000 entries, 0 to 9999\n",
            "Data columns (total 13 columns):\n",
            " #   Column            Non-Null Count  Dtype  \n",
            "---  ------            --------------  -----  \n",
            " 0   CustomerId        10000 non-null  int64  \n",
            " 1   Surname           10000 non-null  object \n",
            " 2   CreditScore       10000 non-null  int64  \n",
            " 3   Geography         10000 non-null  object \n",
            " 4   Gender            10000 non-null  object \n",
            " 5   Age               10000 non-null  int64  \n",
            " 6   Tenure            10000 non-null  int64  \n",
            " 7   Balance           10000 non-null  float64\n",
            " 8   Num Of Products   10000 non-null  int64  \n",
            " 9   Has Credit Card   10000 non-null  int64  \n",
            " 10  Is Active Member  10000 non-null  int64  \n",
            " 11  Estimated Salary  10000 non-null  float64\n",
            " 12  Churn             10000 non-null  int64  \n",
            "dtypes: float64(2), int64(8), object(3)\n",
            "memory usage: 1015.8+ KB\n"
          ]
        }
      ]
    },
    {
      "cell_type": "code",
      "source": [
        "df.duplicated('CustomerId').sum()"
      ],
      "metadata": {
        "colab": {
          "base_uri": "https://localhost:8080/"
        },
        "id": "tSRnHZxRWe4D",
        "outputId": "3d8655e8-d688-4816-9c93-408904ab5ed2"
      },
      "execution_count": null,
      "outputs": [
        {
          "output_type": "execute_result",
          "data": {
            "text/plain": [
              "np.int64(0)"
            ]
          },
          "metadata": {},
          "execution_count": 7
        }
      ]
    },
    {
      "cell_type": "code",
      "source": [
        "df=df.set_index('CustomerId') #setting CustomerId as index"
      ],
      "metadata": {
        "id": "PNaMox1lWjrw"
      },
      "execution_count": null,
      "outputs": []
    },
    {
      "cell_type": "code",
      "source": [
        "df.info()"
      ],
      "metadata": {
        "colab": {
          "base_uri": "https://localhost:8080/"
        },
        "id": "ozAddYg-WzKs",
        "outputId": "d72db769-7912-4b45-ba5e-6db9514b9c93"
      },
      "execution_count": null,
      "outputs": [
        {
          "output_type": "stream",
          "name": "stdout",
          "text": [
            "<class 'pandas.core.frame.DataFrame'>\n",
            "Index: 10000 entries, 15634602 to 15628319\n",
            "Data columns (total 12 columns):\n",
            " #   Column            Non-Null Count  Dtype  \n",
            "---  ------            --------------  -----  \n",
            " 0   Surname           10000 non-null  object \n",
            " 1   CreditScore       10000 non-null  int64  \n",
            " 2   Geography         10000 non-null  object \n",
            " 3   Gender            10000 non-null  object \n",
            " 4   Age               10000 non-null  int64  \n",
            " 5   Tenure            10000 non-null  int64  \n",
            " 6   Balance           10000 non-null  float64\n",
            " 7   Num Of Products   10000 non-null  int64  \n",
            " 8   Has Credit Card   10000 non-null  int64  \n",
            " 9   Is Active Member  10000 non-null  int64  \n",
            " 10  Estimated Salary  10000 non-null  float64\n",
            " 11  Churn             10000 non-null  int64  \n",
            "dtypes: float64(2), int64(7), object(3)\n",
            "memory usage: 1015.6+ KB\n"
          ]
        }
      ]
    },
    {
      "cell_type": "code",
      "source": [
        "df['Geography'].value_counts()"
      ],
      "metadata": {
        "colab": {
          "base_uri": "https://localhost:8080/",
          "height": 209
        },
        "id": "obHJga4qXKKG",
        "outputId": "28f406e3-3c63-4880-f5e5-be3ec2050a5d"
      },
      "execution_count": null,
      "outputs": [
        {
          "output_type": "execute_result",
          "data": {
            "text/plain": [
              "Geography\n",
              "France     5014\n",
              "Germany    2509\n",
              "Spain      2477\n",
              "Name: count, dtype: int64"
            ],
            "text/html": [
              "<div>\n",
              "<style scoped>\n",
              "    .dataframe tbody tr th:only-of-type {\n",
              "        vertical-align: middle;\n",
              "    }\n",
              "\n",
              "    .dataframe tbody tr th {\n",
              "        vertical-align: top;\n",
              "    }\n",
              "\n",
              "    .dataframe thead th {\n",
              "        text-align: right;\n",
              "    }\n",
              "</style>\n",
              "<table border=\"1\" class=\"dataframe\">\n",
              "  <thead>\n",
              "    <tr style=\"text-align: right;\">\n",
              "      <th></th>\n",
              "      <th>count</th>\n",
              "    </tr>\n",
              "    <tr>\n",
              "      <th>Geography</th>\n",
              "      <th></th>\n",
              "    </tr>\n",
              "  </thead>\n",
              "  <tbody>\n",
              "    <tr>\n",
              "      <th>France</th>\n",
              "      <td>5014</td>\n",
              "    </tr>\n",
              "    <tr>\n",
              "      <th>Germany</th>\n",
              "      <td>2509</td>\n",
              "    </tr>\n",
              "    <tr>\n",
              "      <th>Spain</th>\n",
              "      <td>2477</td>\n",
              "    </tr>\n",
              "  </tbody>\n",
              "</table>\n",
              "</div><br><label><b>dtype:</b> int64</label>"
            ]
          },
          "metadata": {},
          "execution_count": 10
        }
      ]
    },
    {
      "cell_type": "code",
      "source": [
        "df.replace({'Geography':{'France':2,'Germany':1,'Spain':0}},inplace=True)"
      ],
      "metadata": {
        "colab": {
          "base_uri": "https://localhost:8080/"
        },
        "id": "ImX6-FGOXOvN",
        "outputId": "15c988ef-a1d7-42db-d43a-2d1b81ccb670"
      },
      "execution_count": null,
      "outputs": [
        {
          "output_type": "stream",
          "name": "stderr",
          "text": [
            "<ipython-input-13-1985855611>:1: FutureWarning: Downcasting behavior in `replace` is deprecated and will be removed in a future version. To retain the old behavior, explicitly call `result.infer_objects(copy=False)`. To opt-in to the future behavior, set `pd.set_option('future.no_silent_downcasting', True)`\n",
            "  df.replace({'Geography':{'France':2,'Germany':1,'Spain':0}},inplace=True)\n"
          ]
        }
      ]
    },
    {
      "cell_type": "code",
      "source": [
        "df['Gender'].value_counts()"
      ],
      "metadata": {
        "colab": {
          "base_uri": "https://localhost:8080/",
          "height": 178
        },
        "id": "d-xSd7o8Xmoe",
        "outputId": "1287d5e0-c3f3-4afe-997c-aa957c1241cb"
      },
      "execution_count": null,
      "outputs": [
        {
          "output_type": "execute_result",
          "data": {
            "text/plain": [
              "Gender\n",
              "Male      5457\n",
              "Female    4543\n",
              "Name: count, dtype: int64"
            ],
            "text/html": [
              "<div>\n",
              "<style scoped>\n",
              "    .dataframe tbody tr th:only-of-type {\n",
              "        vertical-align: middle;\n",
              "    }\n",
              "\n",
              "    .dataframe tbody tr th {\n",
              "        vertical-align: top;\n",
              "    }\n",
              "\n",
              "    .dataframe thead th {\n",
              "        text-align: right;\n",
              "    }\n",
              "</style>\n",
              "<table border=\"1\" class=\"dataframe\">\n",
              "  <thead>\n",
              "    <tr style=\"text-align: right;\">\n",
              "      <th></th>\n",
              "      <th>count</th>\n",
              "    </tr>\n",
              "    <tr>\n",
              "      <th>Gender</th>\n",
              "      <th></th>\n",
              "    </tr>\n",
              "  </thead>\n",
              "  <tbody>\n",
              "    <tr>\n",
              "      <th>Male</th>\n",
              "      <td>5457</td>\n",
              "    </tr>\n",
              "    <tr>\n",
              "      <th>Female</th>\n",
              "      <td>4543</td>\n",
              "    </tr>\n",
              "  </tbody>\n",
              "</table>\n",
              "</div><br><label><b>dtype:</b> int64</label>"
            ]
          },
          "metadata": {},
          "execution_count": 14
        }
      ]
    },
    {
      "cell_type": "code",
      "source": [
        "df.replace({'Gender':{'Male':0,'Female':1}},inplace=True)"
      ],
      "metadata": {
        "colab": {
          "base_uri": "https://localhost:8080/"
        },
        "id": "g_jp-OKzXuBr",
        "outputId": "86a53a11-76ee-4e6b-cb82-cd43fccf2b03"
      },
      "execution_count": null,
      "outputs": [
        {
          "output_type": "stream",
          "name": "stderr",
          "text": [
            "<ipython-input-15-1828585573>:1: FutureWarning: Downcasting behavior in `replace` is deprecated and will be removed in a future version. To retain the old behavior, explicitly call `result.infer_objects(copy=False)`. To opt-in to the future behavior, set `pd.set_option('future.no_silent_downcasting', True)`\n",
            "  df.replace({'Gender':{'Male':0,'Female':1}},inplace=True)\n"
          ]
        }
      ]
    },
    {
      "cell_type": "code",
      "source": [
        "df['Num Of Products'].value_counts()"
      ],
      "metadata": {
        "colab": {
          "base_uri": "https://localhost:8080/",
          "height": 241
        },
        "id": "PmGE3Y_qX8yD",
        "outputId": "755809b0-3b7a-4269-c7e6-0071ba07a4e9"
      },
      "execution_count": null,
      "outputs": [
        {
          "output_type": "execute_result",
          "data": {
            "text/plain": [
              "Num Of Products\n",
              "1    5084\n",
              "2    4590\n",
              "3     266\n",
              "4      60\n",
              "Name: count, dtype: int64"
            ],
            "text/html": [
              "<div>\n",
              "<style scoped>\n",
              "    .dataframe tbody tr th:only-of-type {\n",
              "        vertical-align: middle;\n",
              "    }\n",
              "\n",
              "    .dataframe tbody tr th {\n",
              "        vertical-align: top;\n",
              "    }\n",
              "\n",
              "    .dataframe thead th {\n",
              "        text-align: right;\n",
              "    }\n",
              "</style>\n",
              "<table border=\"1\" class=\"dataframe\">\n",
              "  <thead>\n",
              "    <tr style=\"text-align: right;\">\n",
              "      <th></th>\n",
              "      <th>count</th>\n",
              "    </tr>\n",
              "    <tr>\n",
              "      <th>Num Of Products</th>\n",
              "      <th></th>\n",
              "    </tr>\n",
              "  </thead>\n",
              "  <tbody>\n",
              "    <tr>\n",
              "      <th>1</th>\n",
              "      <td>5084</td>\n",
              "    </tr>\n",
              "    <tr>\n",
              "      <th>2</th>\n",
              "      <td>4590</td>\n",
              "    </tr>\n",
              "    <tr>\n",
              "      <th>3</th>\n",
              "      <td>266</td>\n",
              "    </tr>\n",
              "    <tr>\n",
              "      <th>4</th>\n",
              "      <td>60</td>\n",
              "    </tr>\n",
              "  </tbody>\n",
              "</table>\n",
              "</div><br><label><b>dtype:</b> int64</label>"
            ]
          },
          "metadata": {},
          "execution_count": 16
        }
      ]
    },
    {
      "cell_type": "code",
      "source": [
        "df.replace({'Num of Products':{1:0,2:1,3:1,4:1}},inplace=True)"
      ],
      "metadata": {
        "id": "miPukp_iX_-m"
      },
      "execution_count": null,
      "outputs": []
    },
    {
      "cell_type": "code",
      "source": [
        "df['Has Credit Card'].value_counts()"
      ],
      "metadata": {
        "colab": {
          "base_uri": "https://localhost:8080/",
          "height": 178
        },
        "id": "20iurqg4YLod",
        "outputId": "516fb05a-8221-4f35-bd08-964b0e544904"
      },
      "execution_count": null,
      "outputs": [
        {
          "output_type": "execute_result",
          "data": {
            "text/plain": [
              "Has Credit Card\n",
              "1    7055\n",
              "0    2945\n",
              "Name: count, dtype: int64"
            ],
            "text/html": [
              "<div>\n",
              "<style scoped>\n",
              "    .dataframe tbody tr th:only-of-type {\n",
              "        vertical-align: middle;\n",
              "    }\n",
              "\n",
              "    .dataframe tbody tr th {\n",
              "        vertical-align: top;\n",
              "    }\n",
              "\n",
              "    .dataframe thead th {\n",
              "        text-align: right;\n",
              "    }\n",
              "</style>\n",
              "<table border=\"1\" class=\"dataframe\">\n",
              "  <thead>\n",
              "    <tr style=\"text-align: right;\">\n",
              "      <th></th>\n",
              "      <th>count</th>\n",
              "    </tr>\n",
              "    <tr>\n",
              "      <th>Has Credit Card</th>\n",
              "      <th></th>\n",
              "    </tr>\n",
              "  </thead>\n",
              "  <tbody>\n",
              "    <tr>\n",
              "      <th>1</th>\n",
              "      <td>7055</td>\n",
              "    </tr>\n",
              "    <tr>\n",
              "      <th>0</th>\n",
              "      <td>2945</td>\n",
              "    </tr>\n",
              "  </tbody>\n",
              "</table>\n",
              "</div><br><label><b>dtype:</b> int64</label>"
            ]
          },
          "metadata": {},
          "execution_count": 18
        }
      ]
    },
    {
      "cell_type": "code",
      "source": [
        "df['Is Active Member'].value_counts()"
      ],
      "metadata": {
        "colab": {
          "base_uri": "https://localhost:8080/",
          "height": 178
        },
        "id": "dWvQnT2yYQtm",
        "outputId": "dc44d066-ebb4-4361-f99d-c8a6cc9e56cb"
      },
      "execution_count": null,
      "outputs": [
        {
          "output_type": "execute_result",
          "data": {
            "text/plain": [
              "Is Active Member\n",
              "1    5151\n",
              "0    4849\n",
              "Name: count, dtype: int64"
            ],
            "text/html": [
              "<div>\n",
              "<style scoped>\n",
              "    .dataframe tbody tr th:only-of-type {\n",
              "        vertical-align: middle;\n",
              "    }\n",
              "\n",
              "    .dataframe tbody tr th {\n",
              "        vertical-align: top;\n",
              "    }\n",
              "\n",
              "    .dataframe thead th {\n",
              "        text-align: right;\n",
              "    }\n",
              "</style>\n",
              "<table border=\"1\" class=\"dataframe\">\n",
              "  <thead>\n",
              "    <tr style=\"text-align: right;\">\n",
              "      <th></th>\n",
              "      <th>count</th>\n",
              "    </tr>\n",
              "    <tr>\n",
              "      <th>Is Active Member</th>\n",
              "      <th></th>\n",
              "    </tr>\n",
              "  </thead>\n",
              "  <tbody>\n",
              "    <tr>\n",
              "      <th>1</th>\n",
              "      <td>5151</td>\n",
              "    </tr>\n",
              "    <tr>\n",
              "      <th>0</th>\n",
              "      <td>4849</td>\n",
              "    </tr>\n",
              "  </tbody>\n",
              "</table>\n",
              "</div><br><label><b>dtype:</b> int64</label>"
            ]
          },
          "metadata": {},
          "execution_count": 19
        }
      ]
    },
    {
      "cell_type": "code",
      "source": [
        "df.loc[(df['Balance']==0),'Churn'].value_counts()"
      ],
      "metadata": {
        "colab": {
          "base_uri": "https://localhost:8080/",
          "height": 178
        },
        "id": "1i1nL_GJYXli",
        "outputId": "8a367dc8-9e9f-445a-bb19-ea62e0cb93b8"
      },
      "execution_count": null,
      "outputs": [
        {
          "output_type": "execute_result",
          "data": {
            "text/plain": [
              "Churn\n",
              "0    3117\n",
              "1     500\n",
              "Name: count, dtype: int64"
            ],
            "text/html": [
              "<div>\n",
              "<style scoped>\n",
              "    .dataframe tbody tr th:only-of-type {\n",
              "        vertical-align: middle;\n",
              "    }\n",
              "\n",
              "    .dataframe tbody tr th {\n",
              "        vertical-align: top;\n",
              "    }\n",
              "\n",
              "    .dataframe thead th {\n",
              "        text-align: right;\n",
              "    }\n",
              "</style>\n",
              "<table border=\"1\" class=\"dataframe\">\n",
              "  <thead>\n",
              "    <tr style=\"text-align: right;\">\n",
              "      <th></th>\n",
              "      <th>count</th>\n",
              "    </tr>\n",
              "    <tr>\n",
              "      <th>Churn</th>\n",
              "      <th></th>\n",
              "    </tr>\n",
              "  </thead>\n",
              "  <tbody>\n",
              "    <tr>\n",
              "      <th>0</th>\n",
              "      <td>3117</td>\n",
              "    </tr>\n",
              "    <tr>\n",
              "      <th>1</th>\n",
              "      <td>500</td>\n",
              "    </tr>\n",
              "  </tbody>\n",
              "</table>\n",
              "</div><br><label><b>dtype:</b> int64</label>"
            ]
          },
          "metadata": {},
          "execution_count": 20
        }
      ]
    },
    {
      "cell_type": "code",
      "source": [
        "df['Zero Balance']=np.where(df['Balance']>0,1,0)"
      ],
      "metadata": {
        "id": "svwKavy5Yg_r"
      },
      "execution_count": null,
      "outputs": []
    },
    {
      "cell_type": "code",
      "source": [
        "df['Zero Balance'].hist()"
      ],
      "metadata": {
        "colab": {
          "base_uri": "https://localhost:8080/",
          "height": 447
        },
        "id": "Mx0488CSYptZ",
        "outputId": "c162dcaf-1291-4e89-97c0-b9659fb5fd1c"
      },
      "execution_count": null,
      "outputs": [
        {
          "output_type": "execute_result",
          "data": {
            "text/plain": [
              "<Axes: >"
            ]
          },
          "metadata": {},
          "execution_count": 22
        },
        {
          "output_type": "display_data",
          "data": {
            "text/plain": [
              "<Figure size 640x480 with 1 Axes>"
            ],
            "image/png": "[encoded data removed]"
          },
          "metadata": {}
        }
      ]
    },
    {
      "cell_type": "code",
      "source": [
        "df.groupby(['Churn','Geogra'])"
      ],
      "metadata": {
        "id": "tkExfmvXY1Mf"
      },
      "execution_count": null,
      "outputs": []
    },
    {
      "cell_type": "markdown",
      "source": [
        "Modelling Part - To create the modeling part, first we need to extarct our feature or define our features or attributes or independent variable and to define our dependent variable or y or a label or a target.\n",
        "So we draw surnameand churn - surname has no predictive power it's a name so we are dropping a surname and churn which is our label or y-variable from the dataframe using the function .drop(), x==1 because the surname and churn are the label of column and x==1 is a column axis and defining our x and y, we are defining as a churn. so the shape of our x and y are 10,000 rows and 11 columns are there!.."
      ],
      "metadata": {
        "id": "1kOkBzHSbNWP"
      }
    },
    {
      "cell_type": "markdown",
      "source": [
        "Step4: **Define Label and Features**"
      ],
      "metadata": {
        "id": "Fhy8ztZacjIO"
      }
    },
    {
      "cell_type": "code",
      "source": [
        "df.columns"
      ],
      "metadata": {
        "colab": {
          "base_uri": "https://localhost:8080/"
        },
        "id": "xyKfzYBMcrna",
        "outputId": "98943ee7-5d98-48e7-b67b-ccd8e5d4d608"
      },
      "execution_count": null,
      "outputs": [
        {
          "output_type": "execute_result",
          "data": {
            "text/plain": [
              "Index(['Surname', 'CreditScore', 'Geography', 'Gender', 'Age', 'Tenure',\n",
              "       'Balance', 'Num Of Products', 'Has Credit Card', 'Is Active Member',\n",
              "       'Estimated Salary', 'Churn', 'Zero Balance'],\n",
              "      dtype='object')"
            ]
          },
          "metadata": {},
          "execution_count": 24
        }
      ]
    },
    {
      "cell_type": "code",
      "source": [
        "X=df.drop(['Surname','Churn'],axis=1)"
      ],
      "metadata": {
        "id": "IZYRmAmRcvtO"
      },
      "execution_count": null,
      "outputs": []
    },
    {
      "cell_type": "code",
      "source": [
        "Y=df['Churn']"
      ],
      "metadata": {
        "id": "M-3XMtFIcgs-"
      },
      "execution_count": null,
      "outputs": []
    },
    {
      "cell_type": "code",
      "source": [
        "X.shape,Y.shape"
      ],
      "metadata": {
        "colab": {
          "base_uri": "https://localhost:8080/"
        },
        "id": "PJczfO_3c8Le",
        "outputId": "644141a6-5385-44f0-9f28-7837b8fe6bf5"
      },
      "execution_count": null,
      "outputs": [
        {
          "output_type": "execute_result",
          "data": {
            "text/plain": [
              "((10000, 11), (10000,))"
            ]
          },
          "metadata": {},
          "execution_count": 27
        }
      ]
    },
    {
      "cell_type": "markdown",
      "source": [
        "**IMBALANCE DATA**\n",
        "1. The no.of customers left who left the bank are less than those who stayed.\n",
        "2. In Fraud Detction - The no.of spam mails are less than those of regular mails.\n",
        "3. In Disease Prediction - The people suffering with disesase is always small than the people healthy\n",
        "4. Online Sales Channel - The people who are leaving are less than the people who are buying.\n",
        "5. Advertising Clicks - The count or people who are clicking on advertisement are few than the people who are not clicking on the advertisement.\n",
        "- We are finding that the category or the label of our two classes are imbalance , so how to deal such situations??!\n",
        " - Either we can run the model with whatever data we have, but it will not give us a good accuracy because our model will not be to learn from the category which is few in number"
      ],
      "metadata": {
        "id": "Nh1JnTmVdIS9"
      }
    },
    {
      "cell_type": "markdown",
      "source": [
        "So to overcome with undersamoling or imbalanced data we deal with two stratergy which are 1. Under Sampling and 2. Over Sampling\n",
        "\n",
        "\n",
        "**UnderSampling** can be defined as removing some observations of the majority class. This is done until the majority and minority class is balanced out.\n",
        "\n",
        "Undersampling can be a good choice when we have a ton of data - think of million rows.But a drawback to undersampling is that we are removing random records from the majority class, which can cause loss of information.\n",
        "\n",
        "A drawback to consider when undersampling is that it can cause overfitting and poor generalization to our test data.\n",
        "\n",
        "\n",
        "---\n",
        "\n",
        "**OverSampling ** can be defined as adding more copies to the minority class. Oversampling can a good choice when you don't have a to of data to work with.\n",
        "\n",
        "The simplest implementation of over-sampling is to duplicte random records from the minority class, which can cause overfitting.\n",
        "\n",
        "\n",
        "\n",
        "\n",
        "\n",
        "\n",
        "![Screenshot 2025-06-15 125947.png](data:image/png;base64,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)"
      ],
      "metadata": {
        "id": "0bci9cv9fIZr"
      }
    },
    {
      "cell_type": "code",
      "source": [
        "df['Churn'].value_counts()"
      ],
      "metadata": {
        "colab": {
          "base_uri": "https://localhost:8080/",
          "height": 178
        },
        "id": "dXyQHUL2h7H0",
        "outputId": "c8a952cc-4b37-48ff-bad2-a122ab6d21e5"
      },
      "execution_count": null,
      "outputs": [
        {
          "output_type": "execute_result",
          "data": {
            "text/plain": [
              "Churn\n",
              "0    7963\n",
              "1    2037\n",
              "Name: count, dtype: int64"
            ],
            "text/html": [
              "<div>\n",
              "<style scoped>\n",
              "    .dataframe tbody tr th:only-of-type {\n",
              "        vertical-align: middle;\n",
              "    }\n",
              "\n",
              "    .dataframe tbody tr th {\n",
              "        vertical-align: top;\n",
              "    }\n",
              "\n",
              "    .dataframe thead th {\n",
              "        text-align: right;\n",
              "    }\n",
              "</style>\n",
              "<table border=\"1\" class=\"dataframe\">\n",
              "  <thead>\n",
              "    <tr style=\"text-align: right;\">\n",
              "      <th></th>\n",
              "      <th>count</th>\n",
              "    </tr>\n",
              "    <tr>\n",
              "      <th>Churn</th>\n",
              "      <th></th>\n",
              "    </tr>\n",
              "  </thead>\n",
              "  <tbody>\n",
              "    <tr>\n",
              "      <th>0</th>\n",
              "      <td>7963</td>\n",
              "    </tr>\n",
              "    <tr>\n",
              "      <th>1</th>\n",
              "      <td>2037</td>\n",
              "    </tr>\n",
              "  </tbody>\n",
              "</table>\n",
              "</div><br><label><b>dtype:</b> int64</label>"
            ]
          },
          "metadata": {},
          "execution_count": 28
        }
      ]
    },
    {
      "cell_type": "code",
      "source": [
        "sns.countplot(x='Churn',data=df)"
      ],
      "metadata": {
        "colab": {
          "base_uri": "https://localhost:8080/",
          "height": 466
        },
        "id": "tnT4NSYRguZ-",
        "outputId": "30a02e2b-9347-4d1f-fcfd-4d563c10dc95"
      },
      "execution_count": null,
      "outputs": [
        {
          "output_type": "execute_result",
          "data": {
            "text/plain": [
              "<Axes: xlabel='Churn', ylabel='count'>"
            ]
          },
          "metadata": {},
          "execution_count": 29
        },
        {
          "output_type": "display_data",
          "data": {
            "text/plain": [
              "<Figure size 640x480 with 1 Axes>"
            ],
            "image/png": "[encoded data removed]"
          },
          "metadata": {}
        }
      ]
    },
    {
      "cell_type": "code",
      "source": [
        "X.shape,Y.shape"
      ],
      "metadata": {
        "colab": {
          "base_uri": "https://localhost:8080/"
        },
        "id": "Npxl6kKCiRcG",
        "outputId": "69a70386-e13e-4088-ce2f-fe23685644ed"
      },
      "execution_count": null,
      "outputs": [
        {
          "output_type": "execute_result",
          "data": {
            "text/plain": [
              "((10000, 11), (10000,))"
            ]
          },
          "metadata": {},
          "execution_count": 30
        }
      ]
    },
    {
      "cell_type": "markdown",
      "source": [
        "**Random UnderSampling**\n"
      ],
      "metadata": {
        "id": "yTQzRTUiiY-2"
      }
    },
    {
      "cell_type": "code",
      "source": [
        "from imblearn.under_sampling import RandomUnderSampler"
      ],
      "metadata": {
        "id": "m7a3nv8TicuK"
      },
      "execution_count": null,
      "outputs": []
    },
    {
      "cell_type": "code",
      "source": [
        "rus = RandomUnderSampler(random_state=2529)"
      ],
      "metadata": {
        "id": "SXGudygfikGi"
      },
      "execution_count": null,
      "outputs": []
    },
    {
      "cell_type": "code",
      "source": [
        "X_rus,Y_rus = rus.fit_resample(X,Y)"
      ],
      "metadata": {
        "id": "4Sc3NBYAirN0"
      },
      "execution_count": null,
      "outputs": []
    },
    {
      "cell_type": "code",
      "source": [
        "X_rus.shape,Y_rus.shape"
      ],
      "metadata": {
        "colab": {
          "base_uri": "https://localhost:8080/"
        },
        "id": "ISky5uQriz4O",
        "outputId": "36c97c4a-4b3c-4516-9537-748026c5660f"
      },
      "execution_count": null,
      "outputs": [
        {
          "output_type": "execute_result",
          "data": {
            "text/plain": [
              "((4074, 11), (4074,))"
            ]
          },
          "metadata": {},
          "execution_count": 35
        }
      ]
    },
    {
      "cell_type": "code",
      "source": [
        "Y.value_counts()"
      ],
      "metadata": {
        "colab": {
          "base_uri": "https://localhost:8080/",
          "height": 178
        },
        "id": "0_wit6Yui6RC",
        "outputId": "e605119e-aa01-4254-c36d-d9c2f5a77655"
      },
      "execution_count": null,
      "outputs": [
        {
          "output_type": "execute_result",
          "data": {
            "text/plain": [
              "Churn\n",
              "0    7963\n",
              "1    2037\n",
              "Name: count, dtype: int64"
            ],
            "text/html": [
              "<div>\n",
              "<style scoped>\n",
              "    .dataframe tbody tr th:only-of-type {\n",
              "        vertical-align: middle;\n",
              "    }\n",
              "\n",
              "    .dataframe tbody tr th {\n",
              "        vertical-align: top;\n",
              "    }\n",
              "\n",
              "    .dataframe thead th {\n",
              "        text-align: right;\n",
              "    }\n",
              "</style>\n",
              "<table border=\"1\" class=\"dataframe\">\n",
              "  <thead>\n",
              "    <tr style=\"text-align: right;\">\n",
              "      <th></th>\n",
              "      <th>count</th>\n",
              "    </tr>\n",
              "    <tr>\n",
              "      <th>Churn</th>\n",
              "      <th></th>\n",
              "    </tr>\n",
              "  </thead>\n",
              "  <tbody>\n",
              "    <tr>\n",
              "      <th>0</th>\n",
              "      <td>7963</td>\n",
              "    </tr>\n",
              "    <tr>\n",
              "      <th>1</th>\n",
              "      <td>2037</td>\n",
              "    </tr>\n",
              "  </tbody>\n",
              "</table>\n",
              "</div><br><label><b>dtype:</b> int64</label>"
            ]
          },
          "metadata": {},
          "execution_count": 36
        }
      ]
    },
    {
      "cell_type": "code",
      "source": [
        "Y_rus.value_counts()"
      ],
      "metadata": {
        "colab": {
          "base_uri": "https://localhost:8080/",
          "height": 178
        },
        "id": "viTF94CEiz7v",
        "outputId": "10d56c2c-e4e2-4c19-ddfe-dbf5682e8f41"
      },
      "execution_count": null,
      "outputs": [
        {
          "output_type": "execute_result",
          "data": {
            "text/plain": [
              "Churn\n",
              "0    2037\n",
              "1    2037\n",
              "Name: count, dtype: int64"
            ],
            "text/html": [
              "<div>\n",
              "<style scoped>\n",
              "    .dataframe tbody tr th:only-of-type {\n",
              "        vertical-align: middle;\n",
              "    }\n",
              "\n",
              "    .dataframe tbody tr th {\n",
              "        vertical-align: top;\n",
              "    }\n",
              "\n",
              "    .dataframe thead th {\n",
              "        text-align: right;\n",
              "    }\n",
              "</style>\n",
              "<table border=\"1\" class=\"dataframe\">\n",
              "  <thead>\n",
              "    <tr style=\"text-align: right;\">\n",
              "      <th></th>\n",
              "      <th>count</th>\n",
              "    </tr>\n",
              "    <tr>\n",
              "      <th>Churn</th>\n",
              "      <th></th>\n",
              "    </tr>\n",
              "  </thead>\n",
              "  <tbody>\n",
              "    <tr>\n",
              "      <th>0</th>\n",
              "      <td>2037</td>\n",
              "    </tr>\n",
              "    <tr>\n",
              "      <th>1</th>\n",
              "      <td>2037</td>\n",
              "    </tr>\n",
              "  </tbody>\n",
              "</table>\n",
              "</div><br><label><b>dtype:</b> int64</label>"
            ]
          },
          "metadata": {},
          "execution_count": 37
        }
      ]
    },
    {
      "cell_type": "code",
      "source": [
        "Y_rus.plot(kind=\"hist\")"
      ],
      "metadata": {
        "colab": {
          "base_uri": "https://localhost:8080/",
          "height": 447
        },
        "id": "IQHjyyAQjDuX",
        "outputId": "47ab5fb0-41e2-499c-c761-f92be8195e9f"
      },
      "execution_count": null,
      "outputs": [
        {
          "output_type": "execute_result",
          "data": {
            "text/plain": [
              "<Axes: ylabel='Frequency'>"
            ]
          },
          "metadata": {},
          "execution_count": 40
        },
        {
          "output_type": "display_data",
          "data": {
            "text/plain": [
              "<Figure size 640x480 with 1 Axes>"
            ],
            "image/png": "[encoded data removed]"
          },
          "metadata": {}
        }
      ]
    },
    {
      "cell_type": "markdown",
      "source": [
        "**Random OverSampling**"
      ],
      "metadata": {
        "id": "65SrW6y9jSaQ"
      }
    },
    {
      "cell_type": "code",
      "source": [
        "from imblearn.over_sampling import RandomOverSampler"
      ],
      "metadata": {
        "id": "2_SmxKB-jVah"
      },
      "execution_count": null,
      "outputs": []
    },
    {
      "cell_type": "code",
      "source": [
        "ros = RandomOverSampler(random_state=2529)"
      ],
      "metadata": {
        "id": "xGAZQNusjjB0"
      },
      "execution_count": null,
      "outputs": []
    },
    {
      "cell_type": "code",
      "source": [
        "X_ros,Y_ros = ros.fit_resample(X,Y)"
      ],
      "metadata": {
        "id": "8L8hFsGfjpDy"
      },
      "execution_count": null,
      "outputs": []
    },
    {
      "cell_type": "code",
      "source": [
        "X_ros.shape,Y_ros.shape"
      ],
      "metadata": {
        "colab": {
          "base_uri": "https://localhost:8080/"
        },
        "id": "mYQs6kOPjx-f",
        "outputId": "000cb9a1-c62c-47b9-d4de-00159e5fc6f4"
      },
      "execution_count": null,
      "outputs": [
        {
          "output_type": "execute_result",
          "data": {
            "text/plain": [
              "((15926, 11), (15926,))"
            ]
          },
          "metadata": {},
          "execution_count": 46
        }
      ]
    },
    {
      "cell_type": "code",
      "source": [
        "Y.value_counts()"
      ],
      "metadata": {
        "colab": {
          "base_uri": "https://localhost:8080/",
          "height": 178
        },
        "id": "WkpwqEfvj5eY",
        "outputId": "cc2c3285-6278-4f05-b801-1bd9a74f60bb"
      },
      "execution_count": null,
      "outputs": [
        {
          "output_type": "execute_result",
          "data": {
            "text/plain": [
              "Churn\n",
              "0    7963\n",
              "1    2037\n",
              "Name: count, dtype: int64"
            ],
            "text/html": [
              "<div>\n",
              "<style scoped>\n",
              "    .dataframe tbody tr th:only-of-type {\n",
              "        vertical-align: middle;\n",
              "    }\n",
              "\n",
              "    .dataframe tbody tr th {\n",
              "        vertical-align: top;\n",
              "    }\n",
              "\n",
              "    .dataframe thead th {\n",
              "        text-align: right;\n",
              "    }\n",
              "</style>\n",
              "<table border=\"1\" class=\"dataframe\">\n",
              "  <thead>\n",
              "    <tr style=\"text-align: right;\">\n",
              "      <th></th>\n",
              "      <th>count</th>\n",
              "    </tr>\n",
              "    <tr>\n",
              "      <th>Churn</th>\n",
              "      <th></th>\n",
              "    </tr>\n",
              "  </thead>\n",
              "  <tbody>\n",
              "    <tr>\n",
              "      <th>0</th>\n",
              "      <td>7963</td>\n",
              "    </tr>\n",
              "    <tr>\n",
              "      <th>1</th>\n",
              "      <td>2037</td>\n",
              "    </tr>\n",
              "  </tbody>\n",
              "</table>\n",
              "</div><br><label><b>dtype:</b> int64</label>"
            ]
          },
          "metadata": {},
          "execution_count": 47
        }
      ]
    },
    {
      "cell_type": "code",
      "source": [
        "Y_ros.value_counts()"
      ],
      "metadata": {
        "colab": {
          "base_uri": "https://localhost:8080/",
          "height": 178
        },
        "id": "jwhjm2I7j77k",
        "outputId": "a2b66003-3b2f-4591-e038-7aab99dca91f"
      },
      "execution_count": null,
      "outputs": [
        {
          "output_type": "execute_result",
          "data": {
            "text/plain": [
              "Churn\n",
              "1    7963\n",
              "0    7963\n",
              "Name: count, dtype: int64"
            ],
            "text/html": [
              "<div>\n",
              "<style scoped>\n",
              "    .dataframe tbody tr th:only-of-type {\n",
              "        vertical-align: middle;\n",
              "    }\n",
              "\n",
              "    .dataframe tbody tr th {\n",
              "        vertical-align: top;\n",
              "    }\n",
              "\n",
              "    .dataframe thead th {\n",
              "        text-align: right;\n",
              "    }\n",
              "</style>\n",
              "<table border=\"1\" class=\"dataframe\">\n",
              "  <thead>\n",
              "    <tr style=\"text-align: right;\">\n",
              "      <th></th>\n",
              "      <th>count</th>\n",
              "    </tr>\n",
              "    <tr>\n",
              "      <th>Churn</th>\n",
              "      <th></th>\n",
              "    </tr>\n",
              "  </thead>\n",
              "  <tbody>\n",
              "    <tr>\n",
              "      <th>1</th>\n",
              "      <td>7963</td>\n",
              "    </tr>\n",
              "    <tr>\n",
              "      <th>0</th>\n",
              "      <td>7963</td>\n",
              "    </tr>\n",
              "  </tbody>\n",
              "</table>\n",
              "</div><br><label><b>dtype:</b> int64</label>"
            ]
          },
          "metadata": {},
          "execution_count": 50
        }
      ]
    },
    {
      "cell_type": "code",
      "source": [
        "Y_ros.plot(kind=\"hist\")"
      ],
      "metadata": {
        "colab": {
          "base_uri": "https://localhost:8080/",
          "height": 447
        },
        "id": "K2Ud3oq_j-ym",
        "outputId": "0abff28f-b957-4ccb-a94d-6e0ecfe345ff"
      },
      "execution_count": null,
      "outputs": [
        {
          "output_type": "execute_result",
          "data": {
            "text/plain": [
              "<Axes: ylabel='Frequency'>"
            ]
          },
          "metadata": {},
          "execution_count": 51
        },
        {
          "output_type": "display_data",
          "data": {
            "text/plain": [
              "<Figure size 640x480 with 1 Axes>"
            ],
            "image/png": "[encoded data removed]"
          },
          "metadata": {}
        }
      ]
    },
    {
      "cell_type": "markdown",
      "source": [
        "Now we have 3 datasets with us -\n",
        "1. Raw dataset - which is our original\n",
        "2. Random UnderSample dataset\n",
        "3. Random OverSample dataset\n",
        "\n",
        "Now we want to run the Support Vector Machine on all these three datasets and compare the accuracy that which stratergy works better.\n",
        "\n",
        "So we Train Test Split each dataset by using function train_test_split"
      ],
      "metadata": {
        "id": "cDBjIGb9kGrP"
      }
    },
    {
      "cell_type": "markdown",
      "source": [
        "**Train Test Split**"
      ],
      "metadata": {
        "id": "zQ5jf6vFlEhC"
      }
    },
    {
      "cell_type": "code",
      "source": [
        "from sklearn.model_selection import train_test_split\n",
        "# Split Original Data\n",
        "X_train,X_test,Y_train,Y_test = train_test_split(X,Y,test_size=0.3,random_state=25)\n",
        "#Split Random UnderSample data\n",
        "X_train_rus,X_test_rus,Y_train_rus,Y_test_rus=train_test_split(X_rus,Y_rus,test_size=0.3,random_state=25)\n",
        "#Split Random OverSample data\n",
        "X_train_ros,X_test_ros,Y_train_ros,Y_test_ros=train_test_split(X_ros,Y_ros,test_size=0.3,random_state=25)"
      ],
      "metadata": {
        "id": "oh1F6Mjwk9xH"
      },
      "execution_count": null,
      "outputs": []
    },
    {
      "cell_type": "markdown",
      "source": [
        "Now our credit-score,age,balance,salary,tenure - have a different scale, so we need to preprocess our data with standard scalar or by standardizing our dataset so we use standard scalar on our split data set.\n",
        "\n",
        "It is best practice to split the dataset first and then use standard scalar or min-max scalar.\n",
        "\n",
        "we seperately apply standard scalar on train dataset and test dataset"
      ],
      "metadata": {
        "id": "LDfehH-Pl-c9"
      }
    },
    {
      "cell_type": "markdown",
      "source": [
        "**Standardize Features**"
      ],
      "metadata": {
        "id": "0qk3xBXctBiL"
      }
    },
    {
      "cell_type": "code",
      "source": [
        "from sklearn.preprocessing import StandardScaler\n",
        "sc=StandardScaler()\n",
        "#Standardize Original data\n",
        "X_train[['CreditScore','Age','Tenure','Balance','Estimated Salary']]=sc.fit_transform(X_train[['CreditScore','Age','Tenure','Balance','Estimated Salary']])\n",
        "X_test[['CreditScore','Age','Tenure','Balance','Estimated Salary']]=sc.fit_transform(X_test[['CreditScore','Age','Tenure','Balance','Estimated Salary']])\n",
        "#Standardize Random UnderSample data\n",
        "X_train_rus[['CreditScore','Age','Tenure','Balance','Estimated Salary']]=sc.fit_transform(X_train_rus[['CreditScore','Age','Tenure','Balance','Estimated Salary']])\n",
        "X_test_rus[['CreditScore','Age','Tenure','Balance','Estimated Salary']]=sc.fit_transform(X_test_rus[['CreditScore','Age','Tenure','Balance','Estimated Salary']])\n",
        "#Standardize Random OverSample data\n",
        "X_train_ros[['CreditScore','Age','Tenure','Balance','Estimated Salary']]=sc.fit_transform(X_train_ros[['CreditScore','Age','Tenure','Balance','Estimated Salary']])\n",
        "X_test_ros[['CreditScore','Age','Tenure','Balance','Estimated Salary']]=sc.fit_transform(X_test_ros[['CreditScore','Age','Tenure','Balance','Estimated Salary']])\n"
      ],
      "metadata": {
        "id": "Ge4UfHcsr9R4"
      },
      "execution_count": null,
      "outputs": []
    },
    {
      "cell_type": "markdown",
      "source": [
        "**Support Vector Machine Classifier**"
      ],
      "metadata": {
        "id": "ckxijrtjtEQT"
      }
    },
    {
      "cell_type": "markdown",
      "source": [
        "- **ON ORIGINAL OR RAWDATA**"
      ],
      "metadata": {
        "id": "WWpUfVVc0yQ2"
      }
    },
    {
      "cell_type": "code",
      "source": [
        "from sklearn.svm import SVC\n",
        "svc=SVC()\n",
        "#fitting and prediction with raw dataset\n",
        "svc.fit(X_train,Y_train)\n",
        "y_pred = svc.predict(X_test)"
      ],
      "metadata": {
        "id": "XFUe6F09tKkr"
      },
      "execution_count": null,
      "outputs": []
    },
    {
      "cell_type": "markdown",
      "source": [
        "**Model Accuracy**\n"
      ],
      "metadata": {
        "id": "SNjSNxcUtyK-"
      }
    },
    {
      "cell_type": "code",
      "source": [
        "from sklearn.metrics import confusion_matrix,classification_report"
      ],
      "metadata": {
        "id": "1v09H3sbt20x"
      },
      "execution_count": null,
      "outputs": []
    },
    {
      "cell_type": "code",
      "source": [
        "confusion_matrix(Y_test,y_pred)"
      ],
      "metadata": {
        "colab": {
          "base_uri": "https://localhost:8080/"
        },
        "id": "3-s2mnrPt9bi",
        "outputId": "1223a5fb-0cf0-40f6-ccab-b13448a8cba7"
      },
      "execution_count": null,
      "outputs": [
        {
          "output_type": "execute_result",
          "data": {
            "text/plain": [
              "array([[2378,   41],\n",
              "       [ 376,  205]])"
            ]
          },
          "metadata": {},
          "execution_count": 68
        }
      ]
    },
    {
      "cell_type": "code",
      "source": [
        "print(classification_report(Y_test,y_pred))"
      ],
      "metadata": {
        "colab": {
          "base_uri": "https://localhost:8080/"
        },
        "id": "szWNGxS9uHtY",
        "outputId": "1e888b41-1b35-4f5b-def4-68574e47c5d5"
      },
      "execution_count": null,
      "outputs": [
        {
          "output_type": "stream",
          "name": "stdout",
          "text": [
            "              precision    recall  f1-score   support\n",
            "\n",
            "           0       0.86      0.98      0.92      2419\n",
            "           1       0.83      0.35      0.50       581\n",
            "\n",
            "    accuracy                           0.86      3000\n",
            "   macro avg       0.85      0.67      0.71      3000\n",
            "weighted avg       0.86      0.86      0.84      3000\n",
            "\n"
          ]
        }
      ]
    },
    {
      "cell_type": "markdown",
      "source": [
        "The overall accuracy seems to be good, but there are issues in the classifiaction!\n",
        "\n",
        "Our category of interest is to find out the people who are leaving the bank i.e the people who are churning the bank.\n",
        "\n",
        "Here though overall accuracy is very high the recall of the category of interest is just 35%!.. So we will see that our model is not good in predicting the churning though it is overall able to predict good  why?? - because of inbalanced data - The people who are not leaving are in great amount so, even if say for example as a thumb rule i start predicting everyone belonging to zero category even then my model may have accuracy in the range of 70 percent if  just by blindfolded i start tagging everyone as not leaving not leaving even in that case my model will be giving 70% accuracy but if this model is not for what we aspire.\n",
        "\n",
        "\n",
        "so let's try **hyperparameter tuning** on raw data or original data to see whether there is some improvement possible without treating for imbalance.\n",
        "\n",
        "\n"
      ],
      "metadata": {
        "id": "FZ7GTM-4uRFJ"
      }
    },
    {
      "cell_type": "markdown",
      "source": [
        "**HyperParameter Tuning**"
      ],
      "metadata": {
        "id": "lHMMu8lOwNwP"
      }
    },
    {
      "cell_type": "code",
      "source": [
        "from sklearn.model_selection import GridSearchCV"
      ],
      "metadata": {
        "id": "u3xluWuXyzwe"
      },
      "execution_count": null,
      "outputs": []
    },
    {
      "cell_type": "code",
      "source": [
        "param_grid = {'C':[0.1,1,10],\n",
        "              'gamma':[1,0.1,0.01],\n",
        "              'kernel':['rbf'],\n",
        "              'class_weight':['balanced']}"
      ],
      "metadata": {
        "id": "QZBwP8xMy54q"
      },
      "execution_count": null,
      "outputs": []
    },
    {
      "cell_type": "code",
      "source": [
        "grid=GridSearchCV(SVC(),param_grid,refit=True,verbose=2,cv=2)\n",
        "grid.fit(X_train,Y_train)"
      ],
      "metadata": {
        "colab": {
          "base_uri": "https://localhost:8080/",
          "height": 495
        },
        "id": "Fh9u5vElzQ4p",
        "outputId": "8584a9c5-28a7-4452-e087-f8f6cf0ea516"
      },
      "execution_count": null,
      "outputs": [
        {
          "output_type": "stream",
          "name": "stdout",
          "text": [
            "Fitting 2 folds for each of 9 candidates, totalling 18 fits\n",
            "[CV] END ..C=0.1, class_weight=balanced, gamma=1, kernel=rbf; total time=   2.5s\n",
            "[CV] END ..C=0.1, class_weight=balanced, gamma=1, kernel=rbf; total time=   2.6s\n",
            "[CV] END C=0.1, class_weight=balanced, gamma=0.1, kernel=rbf; total time=   1.9s\n",
            "[CV] END C=0.1, class_weight=balanced, gamma=0.1, kernel=rbf; total time=   2.2s\n",
            "[CV] END C=0.1, class_weight=balanced, gamma=0.01, kernel=rbf; total time=   1.6s\n",
            "[CV] END C=0.1, class_weight=balanced, gamma=0.01, kernel=rbf; total time=   1.2s\n",
            "[CV] END ....C=1, class_weight=balanced, gamma=1, kernel=rbf; total time=   2.1s\n",
            "[CV] END ....C=1, class_weight=balanced, gamma=1, kernel=rbf; total time=   1.7s\n",
            "[CV] END ..C=1, class_weight=balanced, gamma=0.1, kernel=rbf; total time=   1.2s\n",
            "[CV] END ..C=1, class_weight=balanced, gamma=0.1, kernel=rbf; total time=   1.5s\n",
            "[CV] END .C=1, class_weight=balanced, gamma=0.01, kernel=rbf; total time=   1.6s\n",
            "[CV] END .C=1, class_weight=balanced, gamma=0.01, kernel=rbf; total time=   3.4s\n",
            "[CV] END ...C=10, class_weight=balanced, gamma=1, kernel=rbf; total time=   2.6s\n",
            "[CV] END ...C=10, class_weight=balanced, gamma=1, kernel=rbf; total time=   2.2s\n",
            "[CV] END .C=10, class_weight=balanced, gamma=0.1, kernel=rbf; total time=   1.3s\n",
            "[CV] END .C=10, class_weight=balanced, gamma=0.1, kernel=rbf; total time=   1.6s\n",
            "[CV] END C=10, class_weight=balanced, gamma=0.01, kernel=rbf; total time=   1.2s\n",
            "[CV] END C=10, class_weight=balanced, gamma=0.01, kernel=rbf; total time=   2.4s\n"
          ]
        },
        {
          "output_type": "execute_result",
          "data": {
            "text/plain": [
              "GridSearchCV(cv=2, estimator=SVC(),\n",
              "             param_grid={'C': [0.1, 1, 10], 'class_weight': ['balanced'],\n",
              "                         'gamma': [1, 0.1, 0.01], 'kernel': ['rbf']},\n",
              "             verbose=2)"
            ],
            "text/html": [
              "<style>#sk-container-id-1 {\n",
              "  /* Definition of color scheme common for light and dark mode */\n",
              "  --sklearn-color-text: #000;\n",
              "  --sklearn-color-text-muted: #666;\n",
              "  --sklearn-color-line: gray;\n",
              "  /* Definition of color scheme for unfitted estimators */\n",
              "  --sklearn-color-unfitted-level-0: #fff5e6;\n",
              "  --sklearn-color-unfitted-level-1: #f6e4d2;\n",
              "  --sklearn-color-unfitted-level-2: #ffe0b3;\n",
              "  --sklearn-color-unfitted-level-3: chocolate;\n",
              "  /* Definition of color scheme for fitted estimators */\n",
              "  --sklearn-color-fitted-level-0: #f0f8ff;\n",
              "  --sklearn-color-fitted-level-1: #d4ebff;\n",
              "  --sklearn-color-fitted-level-2: #b3dbfd;\n",
              "  --sklearn-color-fitted-level-3: cornflowerblue;\n",
              "\n",
              "  /* Specific color for light theme */\n",
              "  --sklearn-color-text-on-default-background: var(--sg-text-color, var(--theme-code-foreground, var(--jp-content-font-color1, black)));\n",
              "  --sklearn-color-background: var(--sg-background-color, var(--theme-background, var(--jp-layout-color0, white)));\n",
              "  --sklearn-color-border-box: var(--sg-text-color, var(--theme-code-foreground, var(--jp-content-font-color1, black)));\n",
              "  --sklearn-color-icon: #696969;\n",
              "\n",
              "  @media (prefers-color-scheme: dark) {\n",
              "    /* Redefinition of color scheme for dark theme */\n",
              "    --sklearn-color-text-on-default-background: var(--sg-text-color, var(--theme-code-foreground, var(--jp-content-font-color1, white)));\n",
              "    --sklearn-color-background: var(--sg-background-color, var(--theme-background, var(--jp-layout-color0, #111)));\n",
              "    --sklearn-color-border-box: var(--sg-text-color, var(--theme-code-foreground, var(--jp-content-font-color1, white)));\n",
              "    --sklearn-color-icon: #878787;\n",
              "  }\n",
              "}\n",
              "\n",
              "#sk-container-id-1 {\n",
              "  color: var(--sklearn-color-text);\n",
              "}\n",
              "\n",
              "#sk-container-id-1 pre {\n",
              "  padding: 0;\n",
              "}\n",
              "\n",
              "#sk-container-id-1 input.sk-hidden--visually {\n",
              "  border: 0;\n",
              "  clip: rect(1px 1px 1px 1px);\n",
              "  clip: rect(1px, 1px, 1px, 1px);\n",
              "  height: 1px;\n",
              "  margin: -1px;\n",
              "  overflow: hidden;\n",
              "  padding: 0;\n",
              "  position: absolute;\n",
              "  width: 1px;\n",
              "}\n",
              "\n",
              "#sk-container-id-1 div.sk-dashed-wrapped {\n",
              "  border: 1px dashed var(--sklearn-color-line);\n",
              "  margin: 0 0.4em 0.5em 0.4em;\n",
              "  box-sizing: border-box;\n",
              "  padding-bottom: 0.4em;\n",
              "  background-color: var(--sklearn-color-background);\n",
              "}\n",
              "\n",
              "#sk-container-id-1 div.sk-container {\n",
              "  /* jupyter's `normalize.less` sets `[hidden] { display: none; }`\n",
              "     but bootstrap.min.css set `[hidden] { display: none !important; }`\n",
              "     so we also need the `!important` here to be able to override the\n",
              "     default hidden behavior on the sphinx rendered scikit-learn.org.\n",
              "     See: https://github.com/scikit-learn/scikit-learn/issues/21755 */\n",
              "  display: inline-block !important;\n",
              "  position: relative;\n",
              "}\n",
              "\n",
              "#sk-container-id-1 div.sk-text-repr-fallback {\n",
              "  display: none;\n",
              "}\n",
              "\n",
              "div.sk-parallel-item,\n",
              "div.sk-serial,\n",
              "div.sk-item {\n",
              "  /* draw centered vertical line to link estimators */\n",
              "  background-image: linear-gradient(var(--sklearn-color-text-on-default-background), var(--sklearn-color-text-on-default-background));\n",
              "  background-size: 2px 100%;\n",
              "  background-repeat: no-repeat;\n",
              "  background-position: center center;\n",
              "}\n",
              "\n",
              "/* Parallel-specific style estimator block */\n",
              "\n",
              "#sk-container-id-1 div.sk-parallel-item::after {\n",
              "  content: \"\";\n",
              "  width: 100%;\n",
              "  border-bottom: 2px solid var(--sklearn-color-text-on-default-background);\n",
              "  flex-grow: 1;\n",
              "}\n",
              "\n",
              "#sk-container-id-1 div.sk-parallel {\n",
              "  display: flex;\n",
              "  align-items: stretch;\n",
              "  justify-content: center;\n",
              "  background-color: var(--sklearn-color-background);\n",
              "  position: relative;\n",
              "}\n",
              "\n",
              "#sk-container-id-1 div.sk-parallel-item {\n",
              "  display: flex;\n",
              "  flex-direction: column;\n",
              "}\n",
              "\n",
              "#sk-container-id-1 div.sk-parallel-item:first-child::after {\n",
              "  align-self: flex-end;\n",
              "  width: 50%;\n",
              "}\n",
              "\n",
              "#sk-container-id-1 div.sk-parallel-item:last-child::after {\n",
              "  align-self: flex-start;\n",
              "  width: 50%;\n",
              "}\n",
              "\n",
              "#sk-container-id-1 div.sk-parallel-item:only-child::after {\n",
              "  width: 0;\n",
              "}\n",
              "\n",
              "/* Serial-specific style estimator block */\n",
              "\n",
              "#sk-container-id-1 div.sk-serial {\n",
              "  display: flex;\n",
              "  flex-direction: column;\n",
              "  align-items: center;\n",
              "  background-color: var(--sklearn-color-background);\n",
              "  padding-right: 1em;\n",
              "  padding-left: 1em;\n",
              "}\n",
              "\n",
              "\n",
              "/* Toggleable style: style used for estimator/Pipeline/ColumnTransformer box that is\n",
              "clickable and can be expanded/collapsed.\n",
              "- Pipeline and ColumnTransformer use this feature and define the default style\n",
              "- Estimators will overwrite some part of the style using the `sk-estimator` class\n",
              "*/\n",
              "\n",
              "/* Pipeline and ColumnTransformer style (default) */\n",
              "\n",
              "#sk-container-id-1 div.sk-toggleable {\n",
              "  /* Default theme specific background. It is overwritten whether we have a\n",
              "  specific estimator or a Pipeline/ColumnTransformer */\n",
              "  background-color: var(--sklearn-color-background);\n",
              "}\n",
              "\n",
              "/* Toggleable label */\n",
              "#sk-container-id-1 label.sk-toggleable__label {\n",
              "  cursor: pointer;\n",
              "  display: flex;\n",
              "  width: 100%;\n",
              "  margin-bottom: 0;\n",
              "  padding: 0.5em;\n",
              "  box-sizing: border-box;\n",
              "  text-align: center;\n",
              "  align-items: start;\n",
              "  justify-content: space-between;\n",
              "  gap: 0.5em;\n",
              "}\n",
              "\n",
              "#sk-container-id-1 label.sk-toggleable__label .caption {\n",
              "  font-size: 0.6rem;\n",
              "  font-weight: lighter;\n",
              "  color: var(--sklearn-color-text-muted);\n",
              "}\n",
              "\n",
              "#sk-container-id-1 label.sk-toggleable__label-arrow:before {\n",
              "  /* Arrow on the left of the label */\n",
              "  content: \"▸\";\n",
              "  float: left;\n",
              "  margin-right: 0.25em;\n",
              "  color: var(--sklearn-color-icon);\n",
              "}\n",
              "\n",
              "#sk-container-id-1 label.sk-toggleable__label-arrow:hover:before {\n",
              "  color: var(--sklearn-color-text);\n",
              "}\n",
              "\n",
              "/* Toggleable content - dropdown */\n",
              "\n",
              "#sk-container-id-1 div.sk-toggleable__content {\n",
              "  max-height: 0;\n",
              "  max-width: 0;\n",
              "  overflow: hidden;\n",
              "  text-align: left;\n",
              "  /* unfitted */\n",
              "  background-color: var(--sklearn-color-unfitted-level-0);\n",
              "}\n",
              "\n",
              "#sk-container-id-1 div.sk-toggleable__content.fitted {\n",
              "  /* fitted */\n",
              "  background-color: var(--sklearn-color-fitted-level-0);\n",
              "}\n",
              "\n",
              "#sk-container-id-1 div.sk-toggleable__content pre {\n",
              "  margin: 0.2em;\n",
              "  border-radius: 0.25em;\n",
              "  color: var(--sklearn-color-text);\n",
              "  /* unfitted */\n",
              "  background-color: var(--sklearn-color-unfitted-level-0);\n",
              "}\n",
              "\n",
              "#sk-container-id-1 div.sk-toggleable__content.fitted pre {\n",
              "  /* unfitted */\n",
              "  background-color: var(--sklearn-color-fitted-level-0);\n",
              "}\n",
              "\n",
              "#sk-container-id-1 input.sk-toggleable__control:checked~div.sk-toggleable__content {\n",
              "  /* Expand drop-down */\n",
              "  max-height: 200px;\n",
              "  max-width: 100%;\n",
              "  overflow: auto;\n",
              "}\n",
              "\n",
              "#sk-container-id-1 input.sk-toggleable__control:checked~label.sk-toggleable__label-arrow:before {\n",
              "  content: \"▾\";\n",
              "}\n",
              "\n",
              "/* Pipeline/ColumnTransformer-specific style */\n",
              "\n",
              "#sk-container-id-1 div.sk-label input.sk-toggleable__control:checked~label.sk-toggleable__label {\n",
              "  color: var(--sklearn-color-text);\n",
              "  background-color: var(--sklearn-color-unfitted-level-2);\n",
              "}\n",
              "\n",
              "#sk-container-id-1 div.sk-label.fitted input.sk-toggleable__control:checked~label.sk-toggleable__label {\n",
              "  background-color: var(--sklearn-color-fitted-level-2);\n",
              "}\n",
              "\n",
              "/* Estimator-specific style */\n",
              "\n",
              "/* Colorize estimator box */\n",
              "#sk-container-id-1 div.sk-estimator input.sk-toggleable__control:checked~label.sk-toggleable__label {\n",
              "  /* unfitted */\n",
              "  background-color: var(--sklearn-color-unfitted-level-2);\n",
              "}\n",
              "\n",
              "#sk-container-id-1 div.sk-estimator.fitted input.sk-toggleable__control:checked~label.sk-toggleable__label {\n",
              "  /* fitted */\n",
              "  background-color: var(--sklearn-color-fitted-level-2);\n",
              "}\n",
              "\n",
              "#sk-container-id-1 div.sk-label label.sk-toggleable__label,\n",
              "#sk-container-id-1 div.sk-label label {\n",
              "  /* The background is the default theme color */\n",
              "  color: var(--sklearn-color-text-on-default-background);\n",
              "}\n",
              "\n",
              "/* On hover, darken the color of the background */\n",
              "#sk-container-id-1 div.sk-label:hover label.sk-toggleable__label {\n",
              "  color: var(--sklearn-color-text);\n",
              "  background-color: var(--sklearn-color-unfitted-level-2);\n",
              "}\n",
              "\n",
              "/* Label box, darken color on hover, fitted */\n",
              "#sk-container-id-1 div.sk-label.fitted:hover label.sk-toggleable__label.fitted {\n",
              "  color: var(--sklearn-color-text);\n",
              "  background-color: var(--sklearn-color-fitted-level-2);\n",
              "}\n",
              "\n",
              "/* Estimator label */\n",
              "\n",
              "#sk-container-id-1 div.sk-label label {\n",
              "  font-family: monospace;\n",
              "  font-weight: bold;\n",
              "  display: inline-block;\n",
              "  line-height: 1.2em;\n",
              "}\n",
              "\n",
              "#sk-container-id-1 div.sk-label-container {\n",
              "  text-align: center;\n",
              "}\n",
              "\n",
              "/* Estimator-specific */\n",
              "#sk-container-id-1 div.sk-estimator {\n",
              "  font-family: monospace;\n",
              "  border: 1px dotted var(--sklearn-color-border-box);\n",
              "  border-radius: 0.25em;\n",
              "  box-sizing: border-box;\n",
              "  margin-bottom: 0.5em;\n",
              "  /* unfitted */\n",
              "  background-color: var(--sklearn-color-unfitted-level-0);\n",
              "}\n",
              "\n",
              "#sk-container-id-1 div.sk-estimator.fitted {\n",
              "  /* fitted */\n",
              "  background-color: var(--sklearn-color-fitted-level-0);\n",
              "}\n",
              "\n",
              "/* on hover */\n",
              "#sk-container-id-1 div.sk-estimator:hover {\n",
              "  /* unfitted */\n",
              "  background-color: var(--sklearn-color-unfitted-level-2);\n",
              "}\n",
              "\n",
              "#sk-container-id-1 div.sk-estimator.fitted:hover {\n",
              "  /* fitted */\n",
              "  background-color: var(--sklearn-color-fitted-level-2);\n",
              "}\n",
              "\n",
              "/* Specification for estimator info (e.g. \"i\" and \"?\") */\n",
              "\n",
              "/* Common style for \"i\" and \"?\" */\n",
              "\n",
              ".sk-estimator-doc-link,\n",
              "a:link.sk-estimator-doc-link,\n",
              "a:visited.sk-estimator-doc-link {\n",
              "  float: right;\n",
              "  font-size: smaller;\n",
              "  line-height: 1em;\n",
              "  font-family: monospace;\n",
              "  background-color: var(--sklearn-color-background);\n",
              "  border-radius: 1em;\n",
              "  height: 1em;\n",
              "  width: 1em;\n",
              "  text-decoration: none !important;\n",
              "  margin-left: 0.5em;\n",
              "  text-align: center;\n",
              "  /* unfitted */\n",
              "  border: var(--sklearn-color-unfitted-level-1) 1pt solid;\n",
              "  color: var(--sklearn-color-unfitted-level-1);\n",
              "}\n",
              "\n",
              ".sk-estimator-doc-link.fitted,\n",
              "a:link.sk-estimator-doc-link.fitted,\n",
              "a:visited.sk-estimator-doc-link.fitted {\n",
              "  /* fitted */\n",
              "  border: var(--sklearn-color-fitted-level-1) 1pt solid;\n",
              "  color: var(--sklearn-color-fitted-level-1);\n",
              "}\n",
              "\n",
              "/* On hover */\n",
              "div.sk-estimator:hover .sk-estimator-doc-link:hover,\n",
              ".sk-estimator-doc-link:hover,\n",
              "div.sk-label-container:hover .sk-estimator-doc-link:hover,\n",
              ".sk-estimator-doc-link:hover {\n",
              "  /* unfitted */\n",
              "  background-color: var(--sklearn-color-unfitted-level-3);\n",
              "  color: var(--sklearn-color-background);\n",
              "  text-decoration: none;\n",
              "}\n",
              "\n",
              "div.sk-estimator.fitted:hover .sk-estimator-doc-link.fitted:hover,\n",
              ".sk-estimator-doc-link.fitted:hover,\n",
              "div.sk-label-container:hover .sk-estimator-doc-link.fitted:hover,\n",
              ".sk-estimator-doc-link.fitted:hover {\n",
              "  /* fitted */\n",
              "  background-color: var(--sklearn-color-fitted-level-3);\n",
              "  color: var(--sklearn-color-background);\n",
              "  text-decoration: none;\n",
              "}\n",
              "\n",
              "/* Span, style for the box shown on hovering the info icon */\n",
              ".sk-estimator-doc-link span {\n",
              "  display: none;\n",
              "  z-index: 9999;\n",
              "  position: relative;\n",
              "  font-weight: normal;\n",
              "  right: .2ex;\n",
              "  padding: .5ex;\n",
              "  margin: .5ex;\n",
              "  width: min-content;\n",
              "  min-width: 20ex;\n",
              "  max-width: 50ex;\n",
              "  color: var(--sklearn-color-text);\n",
              "  box-shadow: 2pt 2pt 4pt #999;\n",
              "  /* unfitted */\n",
              "  background: var(--sklearn-color-unfitted-level-0);\n",
              "  border: .5pt solid var(--sklearn-color-unfitted-level-3);\n",
              "}\n",
              "\n",
              ".sk-estimator-doc-link.fitted span {\n",
              "  /* fitted */\n",
              "  background: var(--sklearn-color-fitted-level-0);\n",
              "  border: var(--sklearn-color-fitted-level-3);\n",
              "}\n",
              "\n",
              ".sk-estimator-doc-link:hover span {\n",
              "  display: block;\n",
              "}\n",
              "\n",
              "/* \"?\"-specific style due to the `<a>` HTML tag */\n",
              "\n",
              "#sk-container-id-1 a.estimator_doc_link {\n",
              "  float: right;\n",
              "  font-size: 1rem;\n",
              "  line-height: 1em;\n",
              "  font-family: monospace;\n",
              "  background-color: var(--sklearn-color-background);\n",
              "  border-radius: 1rem;\n",
              "  height: 1rem;\n",
              "  width: 1rem;\n",
              "  text-decoration: none;\n",
              "  /* unfitted */\n",
              "  color: var(--sklearn-color-unfitted-level-1);\n",
              "  border: var(--sklearn-color-unfitted-level-1) 1pt solid;\n",
              "}\n",
              "\n",
              "#sk-container-id-1 a.estimator_doc_link.fitted {\n",
              "  /* fitted */\n",
              "  border: var(--sklearn-color-fitted-level-1) 1pt solid;\n",
              "  color: var(--sklearn-color-fitted-level-1);\n",
              "}\n",
              "\n",
              "/* On hover */\n",
              "#sk-container-id-1 a.estimator_doc_link:hover {\n",
              "  /* unfitted */\n",
              "  background-color: var(--sklearn-color-unfitted-level-3);\n",
              "  color: var(--sklearn-color-background);\n",
              "  text-decoration: none;\n",
              "}\n",
              "\n",
              "#sk-container-id-1 a.estimator_doc_link.fitted:hover {\n",
              "  /* fitted */\n",
              "  background-color: var(--sklearn-color-fitted-level-3);\n",
              "}\n",
              "</style><div id=\"sk-container-id-1\" class=\"sk-top-container\"><div class=\"sk-text-repr-fallback\"><pre>GridSearchCV(cv=2, estimator=SVC(),\n",
              "             param_grid={&#x27;C&#x27;: [0.1, 1, 10], &#x27;class_weight&#x27;: [&#x27;balanced&#x27;],\n",
              "                         &#x27;gamma&#x27;: [1, 0.1, 0.01], &#x27;kernel&#x27;: [&#x27;rbf&#x27;]},\n",
              "             verbose=2)</pre><b>In a Jupyter environment, please rerun this cell to show the HTML representation or trust the notebook. <br />On GitHub, the HTML representation is unable to render, please try loading this page with nbviewer.org.</b></div><div class=\"sk-container\" hidden><div class=\"sk-item sk-dashed-wrapped\"><div class=\"sk-label-container\"><div class=\"sk-label fitted sk-toggleable\"><input class=\"sk-toggleable__control sk-hidden--visually\" id=\"sk-estimator-id-1\" type=\"checkbox\" ><label for=\"sk-estimator-id-1\" class=\"sk-toggleable__label fitted sk-toggleable__label-arrow\"><div><div>GridSearchCV</div></div><div><a class=\"sk-estimator-doc-link fitted\" rel=\"noreferrer\" target=\"_blank\" href=\"https://scikit-learn.org/1.6/modules/generated/sklearn.model_selection.GridSearchCV.html\">?<span>Documentation for GridSearchCV</span></a><span class=\"sk-estimator-doc-link fitted\">i<span>Fitted</span></span></div></label><div class=\"sk-toggleable__content fitted\"><pre>GridSearchCV(cv=2, estimator=SVC(),\n",
              "             param_grid={&#x27;C&#x27;: [0.1, 1, 10], &#x27;class_weight&#x27;: [&#x27;balanced&#x27;],\n",
              "                         &#x27;gamma&#x27;: [1, 0.1, 0.01], &#x27;kernel&#x27;: [&#x27;rbf&#x27;]},\n",
              "             verbose=2)</pre></div> </div></div><div class=\"sk-parallel\"><div class=\"sk-parallel-item\"><div class=\"sk-item\"><div class=\"sk-label-container\"><div class=\"sk-label fitted sk-toggleable\"><input class=\"sk-toggleable__control sk-hidden--visually\" id=\"sk-estimator-id-2\" type=\"checkbox\" ><label for=\"sk-estimator-id-2\" class=\"sk-toggleable__label fitted sk-toggleable__label-arrow\"><div><div>best_estimator_: SVC</div></div></label><div class=\"sk-toggleable__content fitted\"><pre>SVC(C=10, class_weight=&#x27;balanced&#x27;, gamma=1)</pre></div> </div></div><div class=\"sk-serial\"><div class=\"sk-item\"><div class=\"sk-estimator fitted sk-toggleable\"><input class=\"sk-toggleable__control sk-hidden--visually\" id=\"sk-estimator-id-3\" type=\"checkbox\" ><label for=\"sk-estimator-id-3\" class=\"sk-toggleable__label fitted sk-toggleable__label-arrow\"><div><div>SVC</div></div><div><a class=\"sk-estimator-doc-link fitted\" rel=\"noreferrer\" target=\"_blank\" href=\"https://scikit-learn.org/1.6/modules/generated/sklearn.svm.SVC.html\">?<span>Documentation for SVC</span></a></div></label><div class=\"sk-toggleable__content fitted\"><pre>SVC(C=10, class_weight=&#x27;balanced&#x27;, gamma=1)</pre></div> </div></div></div></div></div></div></div></div></div>"
            ]
          },
          "metadata": {},
          "execution_count": 72
        }
      ]
    },
    {
      "cell_type": "code",
      "source": [
        "print(grid.best_estimator_)"
      ],
      "metadata": {
        "colab": {
          "base_uri": "https://localhost:8080/"
        },
        "id": "E4fIfhiVzhzh",
        "outputId": "74bbf4e1-1e5e-4e0e-e7e9-2e613a27771b"
      },
      "execution_count": null,
      "outputs": [
        {
          "output_type": "stream",
          "name": "stdout",
          "text": [
            "SVC(C=10, class_weight='balanced', gamma=1)\n"
          ]
        }
      ]
    },
    {
      "cell_type": "code",
      "source": [
        "grid_predictions = grid.predict(X_test)"
      ],
      "metadata": {
        "id": "_QfitbuGzl8r"
      },
      "execution_count": null,
      "outputs": []
    },
    {
      "cell_type": "code",
      "source": [
        "confusion_matrix(Y_test,grid_predictions)"
      ],
      "metadata": {
        "colab": {
          "base_uri": "https://localhost:8080/"
        },
        "id": "Dz-tCu8hzubu",
        "outputId": "20f5cd3b-7768-4a6b-8cc7-73ac375d6630"
      },
      "execution_count": null,
      "outputs": [
        {
          "output_type": "execute_result",
          "data": {
            "text/plain": [
              "array([[2203,  216],\n",
              "       [ 362,  219]])"
            ]
          },
          "metadata": {},
          "execution_count": 75
        }
      ]
    },
    {
      "cell_type": "code",
      "source": [
        "print(classification_report(Y_test,grid_predictions))"
      ],
      "metadata": {
        "colab": {
          "base_uri": "https://localhost:8080/"
        },
        "id": "_dktoS0Dzzi3",
        "outputId": "895615ba-cf2c-42b2-fc86-5540cb462b03"
      },
      "execution_count": null,
      "outputs": [
        {
          "output_type": "stream",
          "name": "stdout",
          "text": [
            "              precision    recall  f1-score   support\n",
            "\n",
            "           0       0.86      0.91      0.88      2419\n",
            "           1       0.50      0.38      0.43       581\n",
            "\n",
            "    accuracy                           0.81      3000\n",
            "   macro avg       0.68      0.64      0.66      3000\n",
            "weighted avg       0.79      0.81      0.80      3000\n",
            "\n"
          ]
        }
      ]
    },
    {
      "cell_type": "markdown",
      "source": [
        "Here the overall accuracy has come down from 86 to 81 % but still we see this model is better than the previous one why?? - because now atleast it is better in Predicting the people who are churning or leaving the bank - 38%. This is better than the previous but still not a good model!"
      ],
      "metadata": {
        "id": "dTWfhL0f0GEp"
      }
    },
    {
      "cell_type": "markdown",
      "source": [
        "- **ON RANDOM UNDERSAMPLING**"
      ],
      "metadata": {
        "id": "i4rpe_p00_PO"
      }
    },
    {
      "cell_type": "code",
      "source": [
        "svc_rus=SVC()\n",
        "#fitting and prediction with raw dataset\n",
        "svc_rus.fit(X_train_rus,Y_train_rus)\n",
        "y_pred_rus = svc.predict(X_test_rus)"
      ],
      "metadata": {
        "id": "8yRY5Ews0-qN"
      },
      "execution_count": null,
      "outputs": []
    },
    {
      "cell_type": "markdown",
      "source": [
        "**Model Accuracy**"
      ],
      "metadata": {
        "id": "dUIlAaXWCqw7"
      }
    },
    {
      "cell_type": "code",
      "source": [
        "confusion_matrix(Y_test_rus,y_pred_rus)\n"
      ],
      "metadata": {
        "colab": {
          "base_uri": "https://localhost:8080/"
        },
        "id": "kY4QBzh2CudO",
        "outputId": "16637d24-ad2a-4147-fa63-a10531e11375"
      },
      "execution_count": null,
      "outputs": [
        {
          "output_type": "execute_result",
          "data": {
            "text/plain": [
              "array([[598,   5],\n",
              "       [429, 191]])"
            ]
          },
          "metadata": {},
          "execution_count": 88
        }
      ]
    },
    {
      "cell_type": "code",
      "source": [
        "print(classification_report(Y_test_rus,y_pred_rus))"
      ],
      "metadata": {
        "colab": {
          "base_uri": "https://localhost:8080/"
        },
        "id": "fnDkVM8yC0IX",
        "outputId": "68311681-3be7-4318-8ff9-b5da07742fd4"
      },
      "execution_count": null,
      "outputs": [
        {
          "output_type": "stream",
          "name": "stdout",
          "text": [
            "              precision    recall  f1-score   support\n",
            "\n",
            "           0       0.58      0.99      0.73       603\n",
            "           1       0.97      0.31      0.47       620\n",
            "\n",
            "    accuracy                           0.65      1223\n",
            "   macro avg       0.78      0.65      0.60      1223\n",
            "weighted avg       0.78      0.65      0.60      1223\n",
            "\n"
          ]
        }
      ]
    },
    {
      "cell_type": "markdown",
      "source": [
        "**HyperParameter Tuning**"
      ],
      "metadata": {
        "id": "g4i1qD2PDQr2"
      }
    },
    {
      "cell_type": "code",
      "source": [
        "param_grid = {'C':[0.1,1,10],\n",
        "              'gamma':[1,0.1,0.01],\n",
        "              'kernel':['rbf'],\n",
        "              'class_weight':['balanced']}"
      ],
      "metadata": {
        "id": "F4KBbtdrDTzO"
      },
      "execution_count": null,
      "outputs": []
    },
    {
      "cell_type": "code",
      "source": [
        "grid_rus=GridSearchCV(SVC(),param_grid,refit=True,verbose=2,cv=2)\n",
        "grid_rus.fit(X_train_rus,Y_train_rus)"
      ],
      "metadata": {
        "colab": {
          "base_uri": "https://localhost:8080/",
          "height": 495
        },
        "id": "qnyZ07WfDb5X",
        "outputId": "e6e94273-eb5e-406e-da58-e188246e2074"
      },
      "execution_count": null,
      "outputs": [
        {
          "output_type": "stream",
          "name": "stdout",
          "text": [
            "Fitting 2 folds for each of 9 candidates, totalling 18 fits\n",
            "[CV] END ..C=0.1, class_weight=balanced, gamma=1, kernel=rbf; total time=   0.6s\n",
            "[CV] END ..C=0.1, class_weight=balanced, gamma=1, kernel=rbf; total time=   0.4s\n",
            "[CV] END C=0.1, class_weight=balanced, gamma=0.1, kernel=rbf; total time=   0.3s\n",
            "[CV] END C=0.1, class_weight=balanced, gamma=0.1, kernel=rbf; total time=   0.4s\n",
            "[CV] END C=0.1, class_weight=balanced, gamma=0.01, kernel=rbf; total time=   0.4s\n",
            "[CV] END C=0.1, class_weight=balanced, gamma=0.01, kernel=rbf; total time=   0.4s\n",
            "[CV] END ....C=1, class_weight=balanced, gamma=1, kernel=rbf; total time=   0.5s\n",
            "[CV] END ....C=1, class_weight=balanced, gamma=1, kernel=rbf; total time=   0.4s\n",
            "[CV] END ..C=1, class_weight=balanced, gamma=0.1, kernel=rbf; total time=   0.4s\n",
            "[CV] END ..C=1, class_weight=balanced, gamma=0.1, kernel=rbf; total time=   0.4s\n",
            "[CV] END .C=1, class_weight=balanced, gamma=0.01, kernel=rbf; total time=   0.7s\n",
            "[CV] END .C=1, class_weight=balanced, gamma=0.01, kernel=rbf; total time=   0.6s\n",
            "[CV] END ...C=10, class_weight=balanced, gamma=1, kernel=rbf; total time=   0.8s\n",
            "[CV] END ...C=10, class_weight=balanced, gamma=1, kernel=rbf; total time=   0.5s\n",
            "[CV] END .C=10, class_weight=balanced, gamma=0.1, kernel=rbf; total time=   0.3s\n",
            "[CV] END .C=10, class_weight=balanced, gamma=0.1, kernel=rbf; total time=   0.3s\n",
            "[CV] END C=10, class_weight=balanced, gamma=0.01, kernel=rbf; total time=   0.3s\n",
            "[CV] END C=10, class_weight=balanced, gamma=0.01, kernel=rbf; total time=   0.3s\n"
          ]
        },
        {
          "output_type": "execute_result",
          "data": {
            "text/plain": [
              "GridSearchCV(cv=2, estimator=SVC(),\n",
              "             param_grid={'C': [0.1, 1, 10], 'class_weight': ['balanced'],\n",
              "                         'gamma': [1, 0.1, 0.01], 'kernel': ['rbf']},\n",
              "             verbose=2)"
            ],
            "text/html": [
              "<style>#sk-container-id-2 {\n",
              "  /* Definition of color scheme common for light and dark mode */\n",
              "  --sklearn-color-text: #000;\n",
              "  --sklearn-color-text-muted: #666;\n",
              "  --sklearn-color-line: gray;\n",
              "  /* Definition of color scheme for unfitted estimators */\n",
              "  --sklearn-color-unfitted-level-0: #fff5e6;\n",
              "  --sklearn-color-unfitted-level-1: #f6e4d2;\n",
              "  --sklearn-color-unfitted-level-2: #ffe0b3;\n",
              "  --sklearn-color-unfitted-level-3: chocolate;\n",
              "  /* Definition of color scheme for fitted estimators */\n",
              "  --sklearn-color-fitted-level-0: #f0f8ff;\n",
              "  --sklearn-color-fitted-level-1: #d4ebff;\n",
              "  --sklearn-color-fitted-level-2: #b3dbfd;\n",
              "  --sklearn-color-fitted-level-3: cornflowerblue;\n",
              "\n",
              "  /* Specific color for light theme */\n",
              "  --sklearn-color-text-on-default-background: var(--sg-text-color, var(--theme-code-foreground, var(--jp-content-font-color1, black)));\n",
              "  --sklearn-color-background: var(--sg-background-color, var(--theme-background, var(--jp-layout-color0, white)));\n",
              "  --sklearn-color-border-box: var(--sg-text-color, var(--theme-code-foreground, var(--jp-content-font-color1, black)));\n",
              "  --sklearn-color-icon: #696969;\n",
              "\n",
              "  @media (prefers-color-scheme: dark) {\n",
              "    /* Redefinition of color scheme for dark theme */\n",
              "    --sklearn-color-text-on-default-background: var(--sg-text-color, var(--theme-code-foreground, var(--jp-content-font-color1, white)));\n",
              "    --sklearn-color-background: var(--sg-background-color, var(--theme-background, var(--jp-layout-color0, #111)));\n",
              "    --sklearn-color-border-box: var(--sg-text-color, var(--theme-code-foreground, var(--jp-content-font-color1, white)));\n",
              "    --sklearn-color-icon: #878787;\n",
              "  }\n",
              "}\n",
              "\n",
              "#sk-container-id-2 {\n",
              "  color: var(--sklearn-color-text);\n",
              "}\n",
              "\n",
              "#sk-container-id-2 pre {\n",
              "  padding: 0;\n",
              "}\n",
              "\n",
              "#sk-container-id-2 input.sk-hidden--visually {\n",
              "  border: 0;\n",
              "  clip: rect(1px 1px 1px 1px);\n",
              "  clip: rect(1px, 1px, 1px, 1px);\n",
              "  height: 1px;\n",
              "  margin: -1px;\n",
              "  overflow: hidden;\n",
              "  padding: 0;\n",
              "  position: absolute;\n",
              "  width: 1px;\n",
              "}\n",
              "\n",
              "#sk-container-id-2 div.sk-dashed-wrapped {\n",
              "  border: 1px dashed var(--sklearn-color-line);\n",
              "  margin: 0 0.4em 0.5em 0.4em;\n",
              "  box-sizing: border-box;\n",
              "  padding-bottom: 0.4em;\n",
              "  background-color: var(--sklearn-color-background);\n",
              "}\n",
              "\n",
              "#sk-container-id-2 div.sk-container {\n",
              "  /* jupyter's `normalize.less` sets `[hidden] { display: none; }`\n",
              "     but bootstrap.min.css set `[hidden] { display: none !important; }`\n",
              "     so we also need the `!important` here to be able to override the\n",
              "     default hidden behavior on the sphinx rendered scikit-learn.org.\n",
              "     See: https://github.com/scikit-learn/scikit-learn/issues/21755 */\n",
              "  display: inline-block !important;\n",
              "  position: relative;\n",
              "}\n",
              "\n",
              "#sk-container-id-2 div.sk-text-repr-fallback {\n",
              "  display: none;\n",
              "}\n",
              "\n",
              "div.sk-parallel-item,\n",
              "div.sk-serial,\n",
              "div.sk-item {\n",
              "  /* draw centered vertical line to link estimators */\n",
              "  background-image: linear-gradient(var(--sklearn-color-text-on-default-background), var(--sklearn-color-text-on-default-background));\n",
              "  background-size: 2px 100%;\n",
              "  background-repeat: no-repeat;\n",
              "  background-position: center center;\n",
              "}\n",
              "\n",
              "/* Parallel-specific style estimator block */\n",
              "\n",
              "#sk-container-id-2 div.sk-parallel-item::after {\n",
              "  content: \"\";\n",
              "  width: 100%;\n",
              "  border-bottom: 2px solid var(--sklearn-color-text-on-default-background);\n",
              "  flex-grow: 1;\n",
              "}\n",
              "\n",
              "#sk-container-id-2 div.sk-parallel {\n",
              "  display: flex;\n",
              "  align-items: stretch;\n",
              "  justify-content: center;\n",
              "  background-color: var(--sklearn-color-background);\n",
              "  position: relative;\n",
              "}\n",
              "\n",
              "#sk-container-id-2 div.sk-parallel-item {\n",
              "  display: flex;\n",
              "  flex-direction: column;\n",
              "}\n",
              "\n",
              "#sk-container-id-2 div.sk-parallel-item:first-child::after {\n",
              "  align-self: flex-end;\n",
              "  width: 50%;\n",
              "}\n",
              "\n",
              "#sk-container-id-2 div.sk-parallel-item:last-child::after {\n",
              "  align-self: flex-start;\n",
              "  width: 50%;\n",
              "}\n",
              "\n",
              "#sk-container-id-2 div.sk-parallel-item:only-child::after {\n",
              "  width: 0;\n",
              "}\n",
              "\n",
              "/* Serial-specific style estimator block */\n",
              "\n",
              "#sk-container-id-2 div.sk-serial {\n",
              "  display: flex;\n",
              "  flex-direction: column;\n",
              "  align-items: center;\n",
              "  background-color: var(--sklearn-color-background);\n",
              "  padding-right: 1em;\n",
              "  padding-left: 1em;\n",
              "}\n",
              "\n",
              "\n",
              "/* Toggleable style: style used for estimator/Pipeline/ColumnTransformer box that is\n",
              "clickable and can be expanded/collapsed.\n",
              "- Pipeline and ColumnTransformer use this feature and define the default style\n",
              "- Estimators will overwrite some part of the style using the `sk-estimator` class\n",
              "*/\n",
              "\n",
              "/* Pipeline and ColumnTransformer style (default) */\n",
              "\n",
              "#sk-container-id-2 div.sk-toggleable {\n",
              "  /* Default theme specific background. It is overwritten whether we have a\n",
              "  specific estimator or a Pipeline/ColumnTransformer */\n",
              "  background-color: var(--sklearn-color-background);\n",
              "}\n",
              "\n",
              "/* Toggleable label */\n",
              "#sk-container-id-2 label.sk-toggleable__label {\n",
              "  cursor: pointer;\n",
              "  display: flex;\n",
              "  width: 100%;\n",
              "  margin-bottom: 0;\n",
              "  padding: 0.5em;\n",
              "  box-sizing: border-box;\n",
              "  text-align: center;\n",
              "  align-items: start;\n",
              "  justify-content: space-between;\n",
              "  gap: 0.5em;\n",
              "}\n",
              "\n",
              "#sk-container-id-2 label.sk-toggleable__label .caption {\n",
              "  font-size: 0.6rem;\n",
              "  font-weight: lighter;\n",
              "  color: var(--sklearn-color-text-muted);\n",
              "}\n",
              "\n",
              "#sk-container-id-2 label.sk-toggleable__label-arrow:before {\n",
              "  /* Arrow on the left of the label */\n",
              "  content: \"▸\";\n",
              "  float: left;\n",
              "  margin-right: 0.25em;\n",
              "  color: var(--sklearn-color-icon);\n",
              "}\n",
              "\n",
              "#sk-container-id-2 label.sk-toggleable__label-arrow:hover:before {\n",
              "  color: var(--sklearn-color-text);\n",
              "}\n",
              "\n",
              "/* Toggleable content - dropdown */\n",
              "\n",
              "#sk-container-id-2 div.sk-toggleable__content {\n",
              "  max-height: 0;\n",
              "  max-width: 0;\n",
              "  overflow: hidden;\n",
              "  text-align: left;\n",
              "  /* unfitted */\n",
              "  background-color: var(--sklearn-color-unfitted-level-0);\n",
              "}\n",
              "\n",
              "#sk-container-id-2 div.sk-toggleable__content.fitted {\n",
              "  /* fitted */\n",
              "  background-color: var(--sklearn-color-fitted-level-0);\n",
              "}\n",
              "\n",
              "#sk-container-id-2 div.sk-toggleable__content pre {\n",
              "  margin: 0.2em;\n",
              "  border-radius: 0.25em;\n",
              "  color: var(--sklearn-color-text);\n",
              "  /* unfitted */\n",
              "  background-color: var(--sklearn-color-unfitted-level-0);\n",
              "}\n",
              "\n",
              "#sk-container-id-2 div.sk-toggleable__content.fitted pre {\n",
              "  /* unfitted */\n",
              "  background-color: var(--sklearn-color-fitted-level-0);\n",
              "}\n",
              "\n",
              "#sk-container-id-2 input.sk-toggleable__control:checked~div.sk-toggleable__content {\n",
              "  /* Expand drop-down */\n",
              "  max-height: 200px;\n",
              "  max-width: 100%;\n",
              "  overflow: auto;\n",
              "}\n",
              "\n",
              "#sk-container-id-2 input.sk-toggleable__control:checked~label.sk-toggleable__label-arrow:before {\n",
              "  content: \"▾\";\n",
              "}\n",
              "\n",
              "/* Pipeline/ColumnTransformer-specific style */\n",
              "\n",
              "#sk-container-id-2 div.sk-label input.sk-toggleable__control:checked~label.sk-toggleable__label {\n",
              "  color: var(--sklearn-color-text);\n",
              "  background-color: var(--sklearn-color-unfitted-level-2);\n",
              "}\n",
              "\n",
              "#sk-container-id-2 div.sk-label.fitted input.sk-toggleable__control:checked~label.sk-toggleable__label {\n",
              "  background-color: var(--sklearn-color-fitted-level-2);\n",
              "}\n",
              "\n",
              "/* Estimator-specific style */\n",
              "\n",
              "/* Colorize estimator box */\n",
              "#sk-container-id-2 div.sk-estimator input.sk-toggleable__control:checked~label.sk-toggleable__label {\n",
              "  /* unfitted */\n",
              "  background-color: var(--sklearn-color-unfitted-level-2);\n",
              "}\n",
              "\n",
              "#sk-container-id-2 div.sk-estimator.fitted input.sk-toggleable__control:checked~label.sk-toggleable__label {\n",
              "  /* fitted */\n",
              "  background-color: var(--sklearn-color-fitted-level-2);\n",
              "}\n",
              "\n",
              "#sk-container-id-2 div.sk-label label.sk-toggleable__label,\n",
              "#sk-container-id-2 div.sk-label label {\n",
              "  /* The background is the default theme color */\n",
              "  color: var(--sklearn-color-text-on-default-background);\n",
              "}\n",
              "\n",
              "/* On hover, darken the color of the background */\n",
              "#sk-container-id-2 div.sk-label:hover label.sk-toggleable__label {\n",
              "  color: var(--sklearn-color-text);\n",
              "  background-color: var(--sklearn-color-unfitted-level-2);\n",
              "}\n",
              "\n",
              "/* Label box, darken color on hover, fitted */\n",
              "#sk-container-id-2 div.sk-label.fitted:hover label.sk-toggleable__label.fitted {\n",
              "  color: var(--sklearn-color-text);\n",
              "  background-color: var(--sklearn-color-fitted-level-2);\n",
              "}\n",
              "\n",
              "/* Estimator label */\n",
              "\n",
              "#sk-container-id-2 div.sk-label label {\n",
              "  font-family: monospace;\n",
              "  font-weight: bold;\n",
              "  display: inline-block;\n",
              "  line-height: 1.2em;\n",
              "}\n",
              "\n",
              "#sk-container-id-2 div.sk-label-container {\n",
              "  text-align: center;\n",
              "}\n",
              "\n",
              "/* Estimator-specific */\n",
              "#sk-container-id-2 div.sk-estimator {\n",
              "  font-family: monospace;\n",
              "  border: 1px dotted var(--sklearn-color-border-box);\n",
              "  border-radius: 0.25em;\n",
              "  box-sizing: border-box;\n",
              "  margin-bottom: 0.5em;\n",
              "  /* unfitted */\n",
              "  background-color: var(--sklearn-color-unfitted-level-0);\n",
              "}\n",
              "\n",
              "#sk-container-id-2 div.sk-estimator.fitted {\n",
              "  /* fitted */\n",
              "  background-color: var(--sklearn-color-fitted-level-0);\n",
              "}\n",
              "\n",
              "/* on hover */\n",
              "#sk-container-id-2 div.sk-estimator:hover {\n",
              "  /* unfitted */\n",
              "  background-color: var(--sklearn-color-unfitted-level-2);\n",
              "}\n",
              "\n",
              "#sk-container-id-2 div.sk-estimator.fitted:hover {\n",
              "  /* fitted */\n",
              "  background-color: var(--sklearn-color-fitted-level-2);\n",
              "}\n",
              "\n",
              "/* Specification for estimator info (e.g. \"i\" and \"?\") */\n",
              "\n",
              "/* Common style for \"i\" and \"?\" */\n",
              "\n",
              ".sk-estimator-doc-link,\n",
              "a:link.sk-estimator-doc-link,\n",
              "a:visited.sk-estimator-doc-link {\n",
              "  float: right;\n",
              "  font-size: smaller;\n",
              "  line-height: 1em;\n",
              "  font-family: monospace;\n",
              "  background-color: var(--sklearn-color-background);\n",
              "  border-radius: 1em;\n",
              "  height: 1em;\n",
              "  width: 1em;\n",
              "  text-decoration: none !important;\n",
              "  margin-left: 0.5em;\n",
              "  text-align: center;\n",
              "  /* unfitted */\n",
              "  border: var(--sklearn-color-unfitted-level-1) 1pt solid;\n",
              "  color: var(--sklearn-color-unfitted-level-1);\n",
              "}\n",
              "\n",
              ".sk-estimator-doc-link.fitted,\n",
              "a:link.sk-estimator-doc-link.fitted,\n",
              "a:visited.sk-estimator-doc-link.fitted {\n",
              "  /* fitted */\n",
              "  border: var(--sklearn-color-fitted-level-1) 1pt solid;\n",
              "  color: var(--sklearn-color-fitted-level-1);\n",
              "}\n",
              "\n",
              "/* On hover */\n",
              "div.sk-estimator:hover .sk-estimator-doc-link:hover,\n",
              ".sk-estimator-doc-link:hover,\n",
              "div.sk-label-container:hover .sk-estimator-doc-link:hover,\n",
              ".sk-estimator-doc-link:hover {\n",
              "  /* unfitted */\n",
              "  background-color: var(--sklearn-color-unfitted-level-3);\n",
              "  color: var(--sklearn-color-background);\n",
              "  text-decoration: none;\n",
              "}\n",
              "\n",
              "div.sk-estimator.fitted:hover .sk-estimator-doc-link.fitted:hover,\n",
              ".sk-estimator-doc-link.fitted:hover,\n",
              "div.sk-label-container:hover .sk-estimator-doc-link.fitted:hover,\n",
              ".sk-estimator-doc-link.fitted:hover {\n",
              "  /* fitted */\n",
              "  background-color: var(--sklearn-color-fitted-level-3);\n",
              "  color: var(--sklearn-color-background);\n",
              "  text-decoration: none;\n",
              "}\n",
              "\n",
              "/* Span, style for the box shown on hovering the info icon */\n",
              ".sk-estimator-doc-link span {\n",
              "  display: none;\n",
              "  z-index: 9999;\n",
              "  position: relative;\n",
              "  font-weight: normal;\n",
              "  right: .2ex;\n",
              "  padding: .5ex;\n",
              "  margin: .5ex;\n",
              "  width: min-content;\n",
              "  min-width: 20ex;\n",
              "  max-width: 50ex;\n",
              "  color: var(--sklearn-color-text);\n",
              "  box-shadow: 2pt 2pt 4pt #999;\n",
              "  /* unfitted */\n",
              "  background: var(--sklearn-color-unfitted-level-0);\n",
              "  border: .5pt solid var(--sklearn-color-unfitted-level-3);\n",
              "}\n",
              "\n",
              ".sk-estimator-doc-link.fitted span {\n",
              "  /* fitted */\n",
              "  background: var(--sklearn-color-fitted-level-0);\n",
              "  border: var(--sklearn-color-fitted-level-3);\n",
              "}\n",
              "\n",
              ".sk-estimator-doc-link:hover span {\n",
              "  display: block;\n",
              "}\n",
              "\n",
              "/* \"?\"-specific style due to the `<a>` HTML tag */\n",
              "\n",
              "#sk-container-id-2 a.estimator_doc_link {\n",
              "  float: right;\n",
              "  font-size: 1rem;\n",
              "  line-height: 1em;\n",
              "  font-family: monospace;\n",
              "  background-color: var(--sklearn-color-background);\n",
              "  border-radius: 1rem;\n",
              "  height: 1rem;\n",
              "  width: 1rem;\n",
              "  text-decoration: none;\n",
              "  /* unfitted */\n",
              "  color: var(--sklearn-color-unfitted-level-1);\n",
              "  border: var(--sklearn-color-unfitted-level-1) 1pt solid;\n",
              "}\n",
              "\n",
              "#sk-container-id-2 a.estimator_doc_link.fitted {\n",
              "  /* fitted */\n",
              "  border: var(--sklearn-color-fitted-level-1) 1pt solid;\n",
              "  color: var(--sklearn-color-fitted-level-1);\n",
              "}\n",
              "\n",
              "/* On hover */\n",
              "#sk-container-id-2 a.estimator_doc_link:hover {\n",
              "  /* unfitted */\n",
              "  background-color: var(--sklearn-color-unfitted-level-3);\n",
              "  color: var(--sklearn-color-background);\n",
              "  text-decoration: none;\n",
              "}\n",
              "\n",
              "#sk-container-id-2 a.estimator_doc_link.fitted:hover {\n",
              "  /* fitted */\n",
              "  background-color: var(--sklearn-color-fitted-level-3);\n",
              "}\n",
              "</style><div id=\"sk-container-id-2\" class=\"sk-top-container\"><div class=\"sk-text-repr-fallback\"><pre>GridSearchCV(cv=2, estimator=SVC(),\n",
              "             param_grid={&#x27;C&#x27;: [0.1, 1, 10], &#x27;class_weight&#x27;: [&#x27;balanced&#x27;],\n",
              "                         &#x27;gamma&#x27;: [1, 0.1, 0.01], &#x27;kernel&#x27;: [&#x27;rbf&#x27;]},\n",
              "             verbose=2)</pre><b>In a Jupyter environment, please rerun this cell to show the HTML representation or trust the notebook. <br />On GitHub, the HTML representation is unable to render, please try loading this page with nbviewer.org.</b></div><div class=\"sk-container\" hidden><div class=\"sk-item sk-dashed-wrapped\"><div class=\"sk-label-container\"><div class=\"sk-label fitted sk-toggleable\"><input class=\"sk-toggleable__control sk-hidden--visually\" id=\"sk-estimator-id-4\" type=\"checkbox\" ><label for=\"sk-estimator-id-4\" class=\"sk-toggleable__label fitted sk-toggleable__label-arrow\"><div><div>GridSearchCV</div></div><div><a class=\"sk-estimator-doc-link fitted\" rel=\"noreferrer\" target=\"_blank\" href=\"https://scikit-learn.org/1.6/modules/generated/sklearn.model_selection.GridSearchCV.html\">?<span>Documentation for GridSearchCV</span></a><span class=\"sk-estimator-doc-link fitted\">i<span>Fitted</span></span></div></label><div class=\"sk-toggleable__content fitted\"><pre>GridSearchCV(cv=2, estimator=SVC(),\n",
              "             param_grid={&#x27;C&#x27;: [0.1, 1, 10], &#x27;class_weight&#x27;: [&#x27;balanced&#x27;],\n",
              "                         &#x27;gamma&#x27;: [1, 0.1, 0.01], &#x27;kernel&#x27;: [&#x27;rbf&#x27;]},\n",
              "             verbose=2)</pre></div> </div></div><div class=\"sk-parallel\"><div class=\"sk-parallel-item\"><div class=\"sk-item\"><div class=\"sk-label-container\"><div class=\"sk-label fitted sk-toggleable\"><input class=\"sk-toggleable__control sk-hidden--visually\" id=\"sk-estimator-id-5\" type=\"checkbox\" ><label for=\"sk-estimator-id-5\" class=\"sk-toggleable__label fitted sk-toggleable__label-arrow\"><div><div>best_estimator_: SVC</div></div></label><div class=\"sk-toggleable__content fitted\"><pre>SVC(C=10, class_weight=&#x27;balanced&#x27;, gamma=0.1)</pre></div> </div></div><div class=\"sk-serial\"><div class=\"sk-item\"><div class=\"sk-estimator fitted sk-toggleable\"><input class=\"sk-toggleable__control sk-hidden--visually\" id=\"sk-estimator-id-6\" type=\"checkbox\" ><label for=\"sk-estimator-id-6\" class=\"sk-toggleable__label fitted sk-toggleable__label-arrow\"><div><div>SVC</div></div><div><a class=\"sk-estimator-doc-link fitted\" rel=\"noreferrer\" target=\"_blank\" href=\"https://scikit-learn.org/1.6/modules/generated/sklearn.svm.SVC.html\">?<span>Documentation for SVC</span></a></div></label><div class=\"sk-toggleable__content fitted\"><pre>SVC(C=10, class_weight=&#x27;balanced&#x27;, gamma=0.1)</pre></div> </div></div></div></div></div></div></div></div></div>"
            ]
          },
          "metadata": {},
          "execution_count": 91
        }
      ]
    },
    {
      "cell_type": "code",
      "source": [
        "print(grid_rus.best_estimator_)\n"
      ],
      "metadata": {
        "colab": {
          "base_uri": "https://localhost:8080/"
        },
        "id": "LhnQr1pqD5FL",
        "outputId": "5cb1a669-eebb-45f8-fa26-9fcf88b36556"
      },
      "execution_count": null,
      "outputs": [
        {
          "output_type": "stream",
          "name": "stdout",
          "text": [
            "SVC(C=10, class_weight='balanced', gamma=0.1)\n"
          ]
        }
      ]
    },
    {
      "cell_type": "code",
      "source": [
        "grid_predictions_rus = grid_rus.predict(X_test_rus)\n"
      ],
      "metadata": {
        "id": "Ob-SUQNCD-iK"
      },
      "execution_count": null,
      "outputs": []
    },
    {
      "cell_type": "code",
      "source": [
        "confusion_matrix(Y_test_rus,grid_predictions_rus)"
      ],
      "metadata": {
        "colab": {
          "base_uri": "https://localhost:8080/"
        },
        "id": "-MEAhg7QEXhv",
        "outputId": "41f837e7-2b8e-4b8e-8837-6e7a622325b9"
      },
      "execution_count": null,
      "outputs": [
        {
          "output_type": "execute_result",
          "data": {
            "text/plain": [
              "array([[477, 126],\n",
              "       [155, 465]])"
            ]
          },
          "metadata": {},
          "execution_count": 97
        }
      ]
    },
    {
      "cell_type": "code",
      "source": [
        "print(classification_report(Y_test_rus,grid_predictions_rus))"
      ],
      "metadata": {
        "colab": {
          "base_uri": "https://localhost:8080/"
        },
        "id": "CAX_N3G8EiK5",
        "outputId": "e6935ce0-fe7c-451e-d959-7bd6eaa07fbc"
      },
      "execution_count": null,
      "outputs": [
        {
          "output_type": "stream",
          "name": "stdout",
          "text": [
            "              precision    recall  f1-score   support\n",
            "\n",
            "           0       0.75      0.79      0.77       603\n",
            "           1       0.79      0.75      0.77       620\n",
            "\n",
            "    accuracy                           0.77      1223\n",
            "   macro avg       0.77      0.77      0.77      1223\n",
            "weighted avg       0.77      0.77      0.77      1223\n",
            "\n"
          ]
        }
      ]
    },
    {
      "cell_type": "markdown",
      "source": [
        "- **ON RANDOM OVERSAMPLING DATA**"
      ],
      "metadata": {
        "id": "75qTvqJHEuBe"
      }
    },
    {
      "cell_type": "code",
      "source": [
        "svc_ros=SVC()\n",
        "#fitting and prediction with raw dataset\n",
        "svc_ros.fit(X_train_ros,Y_train_ros)\n",
        "y_pred_ros = svc_ros.predict(X_test_ros)\n",
        "\n",
        "confusion_matrix(Y_test_ros,y_pred_ros)\n",
        "print(classification_report(Y_test_ros,y_pred_ros))\n",
        "param_grid = {'C':[0.1,1,10],\n",
        "              'gamma':[1,0.1,0.01],\n",
        "              'kernel':['rbf'],\n",
        "              'class_weight':['balanced']}\n",
        "grid_ros=GridSearchCV(SVC(),param_grid,refit=True,verbose=2,cv=2)\n",
        "grid_ros.fit(X_train_ros,Y_train_ros)\n",
        "\n",
        "print(grid_ros.best_estimator_)\n",
        "grid_predictions_ros = grid_ros.predict(X_test_ros)\n",
        "confusion_matrix(Y_test_ros,grid_predictions_ros)\n",
        "print(classification_report(Y_test_ros,grid_predictions_ros))"
      ],
      "metadata": {
        "colab": {
          "base_uri": "https://localhost:8080/"
        },
        "id": "yiW6C2v_E0Sb",
        "outputId": "a8435008-a393-4a3a-f64f-65f73f585342"
      },
      "execution_count": null,
      "outputs": [
        {
          "output_type": "stream",
          "name": "stdout",
          "text": [
            "              precision    recall  f1-score   support\n",
            "\n",
            "           0       0.63      0.40      0.49      2426\n",
            "           1       0.55      0.76      0.64      2352\n",
            "\n",
            "    accuracy                           0.58      4778\n",
            "   macro avg       0.59      0.58      0.56      4778\n",
            "weighted avg       0.59      0.58      0.56      4778\n",
            "\n",
            "Fitting 2 folds for each of 9 candidates, totalling 18 fits\n",
            "[CV] END ..C=0.1, class_weight=balanced, gamma=1, kernel=rbf; total time=   4.0s\n",
            "[CV] END ..C=0.1, class_weight=balanced, gamma=1, kernel=rbf; total time=   4.4s\n",
            "[CV] END C=0.1, class_weight=balanced, gamma=0.1, kernel=rbf; total time=   3.6s\n",
            "[CV] END C=0.1, class_weight=balanced, gamma=0.1, kernel=rbf; total time=   3.6s\n",
            "[CV] END C=0.1, class_weight=balanced, gamma=0.01, kernel=rbf; total time=   4.8s\n",
            "[CV] END C=0.1, class_weight=balanced, gamma=0.01, kernel=rbf; total time=   3.7s\n",
            "[CV] END ....C=1, class_weight=balanced, gamma=1, kernel=rbf; total time=   3.9s\n",
            "[CV] END ....C=1, class_weight=balanced, gamma=1, kernel=rbf; total time=   4.9s\n",
            "[CV] END ..C=1, class_weight=balanced, gamma=0.1, kernel=rbf; total time=   3.8s\n",
            "[CV] END ..C=1, class_weight=balanced, gamma=0.1, kernel=rbf; total time=   3.8s\n",
            "[CV] END .C=1, class_weight=balanced, gamma=0.01, kernel=rbf; total time=   4.9s\n",
            "[CV] END .C=1, class_weight=balanced, gamma=0.01, kernel=rbf; total time=   3.8s\n",
            "[CV] END ...C=10, class_weight=balanced, gamma=1, kernel=rbf; total time=   3.3s\n",
            "[CV] END ...C=10, class_weight=balanced, gamma=1, kernel=rbf; total time=   4.5s\n",
            "[CV] END .C=10, class_weight=balanced, gamma=0.1, kernel=rbf; total time=   3.3s\n",
            "[CV] END .C=10, class_weight=balanced, gamma=0.1, kernel=rbf; total time=   3.2s\n",
            "[CV] END C=10, class_weight=balanced, gamma=0.01, kernel=rbf; total time=   3.3s\n",
            "[CV] END C=10, class_weight=balanced, gamma=0.01, kernel=rbf; total time=   4.4s\n",
            "SVC(C=1, class_weight='balanced', gamma=1)\n",
            "              precision    recall  f1-score   support\n",
            "\n",
            "           0       0.94      1.00      0.97      2426\n",
            "           1       1.00      0.94      0.97      2352\n",
            "\n",
            "    accuracy                           0.97      4778\n",
            "   macro avg       0.97      0.97      0.97      4778\n",
            "weighted avg       0.97      0.97      0.97      4778\n",
            "\n"
          ]
        }
      ]
    },
    {
      "cell_type": "markdown",
      "source": [
        "Let's Compare!!"
      ],
      "metadata": {
        "id": "Dt2mH8BuGgVX"
      }
    },
    {
      "cell_type": "code",
      "source": [
        "print(classification_report(Y_test,y_pred))"
      ],
      "metadata": {
        "colab": {
          "base_uri": "https://localhost:8080/"
        },
        "id": "i2ePmk94GirJ",
        "outputId": "a56827fe-c53d-44bd-9c1f-f6c8b634c8e2"
      },
      "execution_count": null,
      "outputs": [
        {
          "output_type": "stream",
          "name": "stdout",
          "text": [
            "              precision    recall  f1-score   support\n",
            "\n",
            "           0       0.86      0.98      0.92      2419\n",
            "           1       0.83      0.35      0.50       581\n",
            "\n",
            "    accuracy                           0.86      3000\n",
            "   macro avg       0.85      0.67      0.71      3000\n",
            "weighted avg       0.86      0.86      0.84      3000\n",
            "\n"
          ]
        }
      ]
    },
    {
      "cell_type": "code",
      "source": [
        "print(classification_report(Y_test,grid_predictions))"
      ],
      "metadata": {
        "colab": {
          "base_uri": "https://localhost:8080/"
        },
        "id": "HviKDOpfGrlB",
        "outputId": "797c5196-2322-4e85-a17c-1bb1e83b9378"
      },
      "execution_count": null,
      "outputs": [
        {
          "output_type": "stream",
          "name": "stdout",
          "text": [
            "              precision    recall  f1-score   support\n",
            "\n",
            "           0       0.86      0.91      0.88      2419\n",
            "           1       0.50      0.38      0.43       581\n",
            "\n",
            "    accuracy                           0.81      3000\n",
            "   macro avg       0.68      0.64      0.66      3000\n",
            "weighted avg       0.79      0.81      0.80      3000\n",
            "\n"
          ]
        }
      ]
    },
    {
      "cell_type": "code",
      "source": [
        "print(classification_report(Y_test_rus,y_pred_rus))"
      ],
      "metadata": {
        "colab": {
          "base_uri": "https://localhost:8080/"
        },
        "id": "d75hIeHVG2Pa",
        "outputId": "1f4b2870-46e6-47a4-e333-802f594d4406"
      },
      "execution_count": null,
      "outputs": [
        {
          "output_type": "stream",
          "name": "stdout",
          "text": [
            "              precision    recall  f1-score   support\n",
            "\n",
            "           0       0.58      0.99      0.73       603\n",
            "           1       0.97      0.31      0.47       620\n",
            "\n",
            "    accuracy                           0.65      1223\n",
            "   macro avg       0.78      0.65      0.60      1223\n",
            "weighted avg       0.78      0.65      0.60      1223\n",
            "\n"
          ]
        }
      ]
    },
    {
      "cell_type": "code",
      "source": [
        "print(classification_report(Y_test_rus,grid_predictions_rus))"
      ],
      "metadata": {
        "colab": {
          "base_uri": "https://localhost:8080/"
        },
        "id": "PEOl--xKG_Vg",
        "outputId": "cb684192-81ce-442b-f649-1a548502f402"
      },
      "execution_count": null,
      "outputs": [
        {
          "output_type": "stream",
          "name": "stdout",
          "text": [
            "              precision    recall  f1-score   support\n",
            "\n",
            "           0       0.75      0.79      0.77       603\n",
            "           1       0.79      0.75      0.77       620\n",
            "\n",
            "    accuracy                           0.77      1223\n",
            "   macro avg       0.77      0.77      0.77      1223\n",
            "weighted avg       0.77      0.77      0.77      1223\n",
            "\n"
          ]
        }
      ]
    },
    {
      "cell_type": "code",
      "source": [
        "print(classification_report(Y_test_ros,y_pred_ros))"
      ],
      "metadata": {
        "colab": {
          "base_uri": "https://localhost:8080/"
        },
        "id": "YcJWCGqTHFc-",
        "outputId": "f3bfd3ae-e12c-4c28-9357-7c67dc654251"
      },
      "execution_count": null,
      "outputs": [
        {
          "output_type": "stream",
          "name": "stdout",
          "text": [
            "              precision    recall  f1-score   support\n",
            "\n",
            "           0       0.63      0.40      0.49      2426\n",
            "           1       0.55      0.76      0.64      2352\n",
            "\n",
            "    accuracy                           0.58      4778\n",
            "   macro avg       0.59      0.58      0.56      4778\n",
            "weighted avg       0.59      0.58      0.56      4778\n",
            "\n"
          ]
        }
      ]
    },
    {
      "cell_type": "code",
      "source": [
        "print(classification_report(Y_test_ros,grid_predictions_ros))"
      ],
      "metadata": {
        "colab": {
          "base_uri": "https://localhost:8080/"
        },
        "id": "0SpG4l3xHIq3",
        "outputId": "629e23ef-0b40-4a17-9519-3f1e0f75f700"
      },
      "execution_count": null,
      "outputs": [
        {
          "output_type": "stream",
          "name": "stdout",
          "text": [
            "              precision    recall  f1-score   support\n",
            "\n",
            "           0       0.94      1.00      0.97      2426\n",
            "           1       1.00      0.94      0.97      2352\n",
            "\n",
            "    accuracy                           0.97      4778\n",
            "   macro avg       0.97      0.97      0.97      4778\n",
            "weighted avg       0.97      0.97      0.97      4778\n",
            "\n"
          ]
        }
      ]
    }
  ]
}